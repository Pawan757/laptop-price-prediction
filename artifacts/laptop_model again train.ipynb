{
 "cells": [
  {
   "cell_type": "code",
   "execution_count": 1,
   "id": "a0fa4684",
   "metadata": {},
   "outputs": [
    {
     "name": "stdout",
     "output_type": "stream",
     "text": [
      "Python 3.9.13\n"
     ]
    }
   ],
   "source": [
    "!python --version"
   ]
  },
  {
   "cell_type": "code",
   "execution_count": 73,
   "id": "539bb9c8",
   "metadata": {},
   "outputs": [],
   "source": [
    "import numpy as np\n",
    "import pandas as pd\n",
    "\n",
    "import seaborn as sns\n",
    "import matplotlib.pyplot as plt\n",
    "\n",
    "from sklearn.preprocessing import LabelEncoder\n",
    "from sklearn.model_selection import train_test_split\n",
    "from sklearn.linear_model import LinearRegression\n",
    "from sklearn.metrics import mean_squared_error,mean_absolute_error,r2_score\n",
    "from statsmodels.stats.outliers_influence import variance_inflation_factor\n",
    "from sklearn.linear_model import Lasso, Ridge\n",
    "from sklearn.linear_model import Lasso, Ridge\n",
    "from sklearn.model_selection import GridSearchCV, RandomizedSearchCV\n",
    "from sklearn.tree import DecisionTreeRegressor\n",
    "from sklearn.neighbors import KNeighborsRegressor\n",
    "from sklearn.preprocessing import MinMaxScaler, StandardScaler\n",
    "\n",
    "import pickle\n",
    "import json"
   ]
  },
  {
   "cell_type": "code",
   "execution_count": 3,
   "id": "53b08b0d",
   "metadata": {},
   "outputs": [],
   "source": [
    "df = pd.read_csv('laptops.csv')"
   ]
  },
  {
   "cell_type": "code",
   "execution_count": 4,
   "id": "fb110277",
   "metadata": {},
   "outputs": [
    {
     "data": {
      "text/html": [
       "<div>\n",
       "<style scoped>\n",
       "    .dataframe tbody tr th:only-of-type {\n",
       "        vertical-align: middle;\n",
       "    }\n",
       "\n",
       "    .dataframe tbody tr th {\n",
       "        vertical-align: top;\n",
       "    }\n",
       "\n",
       "    .dataframe thead th {\n",
       "        text-align: right;\n",
       "    }\n",
       "</style>\n",
       "<table border=\"1\" class=\"dataframe\">\n",
       "  <thead>\n",
       "    <tr style=\"text-align: right;\">\n",
       "      <th></th>\n",
       "      <th>Unnamed: 0</th>\n",
       "      <th>img_link</th>\n",
       "      <th>name</th>\n",
       "      <th>price_rs</th>\n",
       "      <th>processor</th>\n",
       "      <th>ram</th>\n",
       "      <th>os</th>\n",
       "      <th>storage</th>\n",
       "      <th>display_inch</th>\n",
       "      <th>rating</th>\n",
       "      <th>no_of_ratings</th>\n",
       "      <th>no_of_reviews</th>\n",
       "    </tr>\n",
       "  </thead>\n",
       "  <tbody>\n",
       "    <tr>\n",
       "      <th>0</th>\n",
       "      <td>0</td>\n",
       "      <td>https://rukminim1.flixcart.com/image/312/312/x...</td>\n",
       "      <td>Lenovo Intel Core i5 11th Gen</td>\n",
       "      <td>62990</td>\n",
       "      <td>Intel Core i5 Processor (11th Gen)</td>\n",
       "      <td>16 GB DDR4 RAM</td>\n",
       "      <td>Windows 11 Operating System</td>\n",
       "      <td>512 GB SSD</td>\n",
       "      <td>15.6</td>\n",
       "      <td>4.5</td>\n",
       "      <td>14.0</td>\n",
       "      <td>1.0</td>\n",
       "    </tr>\n",
       "    <tr>\n",
       "      <th>1</th>\n",
       "      <td>1</td>\n",
       "      <td>https://rukminim1.flixcart.com/image/312/312/x...</td>\n",
       "      <td>Lenovo V15 G2 Core i3 11th Gen</td>\n",
       "      <td>37500</td>\n",
       "      <td>Intel Core i3 Processor (11th Gen)</td>\n",
       "      <td>8 GB DDR4 RAM</td>\n",
       "      <td>64 bit Windows 11 Operating System</td>\n",
       "      <td>1 TB HDD|256 GB SSD</td>\n",
       "      <td>15.6</td>\n",
       "      <td>4.4</td>\n",
       "      <td>53.0</td>\n",
       "      <td>3.0</td>\n",
       "    </tr>\n",
       "    <tr>\n",
       "      <th>2</th>\n",
       "      <td>2</td>\n",
       "      <td>https://rukminim1.flixcart.com/image/312/312/l...</td>\n",
       "      <td>ASUS TUF Gaming F15 Core i5 10th Gen</td>\n",
       "      <td>49990</td>\n",
       "      <td>Intel Core i5 Processor (10th Gen)</td>\n",
       "      <td>8 GB DDR4 RAM</td>\n",
       "      <td>Windows 11 Operating System</td>\n",
       "      <td>512 GB SSD</td>\n",
       "      <td>15.6</td>\n",
       "      <td>4.4</td>\n",
       "      <td>4733.0</td>\n",
       "      <td>463.0</td>\n",
       "    </tr>\n",
       "  </tbody>\n",
       "</table>\n",
       "</div>"
      ],
      "text/plain": [
       "   Unnamed: 0                                           img_link  \\\n",
       "0           0  https://rukminim1.flixcart.com/image/312/312/x...   \n",
       "1           1  https://rukminim1.flixcart.com/image/312/312/x...   \n",
       "2           2  https://rukminim1.flixcart.com/image/312/312/l...   \n",
       "\n",
       "                                   name  price_rs  \\\n",
       "0         Lenovo Intel Core i5 11th Gen     62990   \n",
       "1        Lenovo V15 G2 Core i3 11th Gen     37500   \n",
       "2  ASUS TUF Gaming F15 Core i5 10th Gen     49990   \n",
       "\n",
       "                            processor             ram  \\\n",
       "0  Intel Core i5 Processor (11th Gen)  16 GB DDR4 RAM   \n",
       "1  Intel Core i3 Processor (11th Gen)   8 GB DDR4 RAM   \n",
       "2  Intel Core i5 Processor (10th Gen)   8 GB DDR4 RAM   \n",
       "\n",
       "                                   os              storage  display_inch  \\\n",
       "0         Windows 11 Operating System           512 GB SSD          15.6   \n",
       "1  64 bit Windows 11 Operating System  1 TB HDD|256 GB SSD          15.6   \n",
       "2         Windows 11 Operating System           512 GB SSD          15.6   \n",
       "\n",
       "   rating  no_of_ratings  no_of_reviews  \n",
       "0     4.5           14.0            1.0  \n",
       "1     4.4           53.0            3.0  \n",
       "2     4.4         4733.0          463.0  "
      ]
     },
     "execution_count": 4,
     "metadata": {},
     "output_type": "execute_result"
    }
   ],
   "source": [
    "df.head(3)"
   ]
  },
  {
   "cell_type": "code",
   "execution_count": 5,
   "id": "007a6062",
   "metadata": {},
   "outputs": [],
   "source": [
    "df.drop(['Unnamed: 0','img_link'],axis = 1,inplace=True)"
   ]
  },
  {
   "cell_type": "code",
   "execution_count": 6,
   "id": "b502ac7e",
   "metadata": {},
   "outputs": [
    {
     "data": {
      "text/html": [
       "<div>\n",
       "<style scoped>\n",
       "    .dataframe tbody tr th:only-of-type {\n",
       "        vertical-align: middle;\n",
       "    }\n",
       "\n",
       "    .dataframe tbody tr th {\n",
       "        vertical-align: top;\n",
       "    }\n",
       "\n",
       "    .dataframe thead th {\n",
       "        text-align: right;\n",
       "    }\n",
       "</style>\n",
       "<table border=\"1\" class=\"dataframe\">\n",
       "  <thead>\n",
       "    <tr style=\"text-align: right;\">\n",
       "      <th></th>\n",
       "      <th>name</th>\n",
       "      <th>price_rs</th>\n",
       "      <th>processor</th>\n",
       "      <th>ram</th>\n",
       "      <th>os</th>\n",
       "      <th>storage</th>\n",
       "      <th>display_inch</th>\n",
       "      <th>rating</th>\n",
       "      <th>no_of_ratings</th>\n",
       "      <th>no_of_reviews</th>\n",
       "    </tr>\n",
       "  </thead>\n",
       "  <tbody>\n",
       "    <tr>\n",
       "      <th>730</th>\n",
       "      <td>ASUS Core i7 12th Gen</td>\n",
       "      <td>104405</td>\n",
       "      <td>Intel Core i7 Processor (12th Gen)</td>\n",
       "      <td>16 GB DDR5 RAM</td>\n",
       "      <td>Windows 11 Operating System</td>\n",
       "      <td>1 TB SSD</td>\n",
       "      <td>15.6</td>\n",
       "      <td>NaN</td>\n",
       "      <td>NaN</td>\n",
       "      <td>NaN</td>\n",
       "    </tr>\n",
       "    <tr>\n",
       "      <th>436</th>\n",
       "      <td>Lenovo Ryzen 7 Octa Core 5800H</td>\n",
       "      <td>218290</td>\n",
       "      <td>AMD Ryzen 7 Octa Core Processor</td>\n",
       "      <td>16 GB DDR5 RAM</td>\n",
       "      <td>Windows 11 Operating System</td>\n",
       "      <td>1 TB SSD</td>\n",
       "      <td>16.0</td>\n",
       "      <td>NaN</td>\n",
       "      <td>NaN</td>\n",
       "      <td>NaN</td>\n",
       "    </tr>\n",
       "  </tbody>\n",
       "</table>\n",
       "</div>"
      ],
      "text/plain": [
       "                               name  price_rs  \\\n",
       "730           ASUS Core i7 12th Gen    104405   \n",
       "436  Lenovo Ryzen 7 Octa Core 5800H    218290   \n",
       "\n",
       "                              processor             ram  \\\n",
       "730  Intel Core i7 Processor (12th Gen)  16 GB DDR5 RAM   \n",
       "436     AMD Ryzen 7 Octa Core Processor  16 GB DDR5 RAM   \n",
       "\n",
       "                              os   storage  display_inch  rating  \\\n",
       "730  Windows 11 Operating System  1 TB SSD          15.6     NaN   \n",
       "436  Windows 11 Operating System  1 TB SSD          16.0     NaN   \n",
       "\n",
       "     no_of_ratings  no_of_reviews  \n",
       "730            NaN            NaN  \n",
       "436            NaN            NaN  "
      ]
     },
     "execution_count": 6,
     "metadata": {},
     "output_type": "execute_result"
    }
   ],
   "source": [
    "df.sample(2)"
   ]
  },
  {
   "cell_type": "code",
   "execution_count": 7,
   "id": "4e135036",
   "metadata": {},
   "outputs": [
    {
     "name": "stdout",
     "output_type": "stream",
     "text": [
      "<class 'pandas.core.frame.DataFrame'>\n",
      "RangeIndex: 984 entries, 0 to 983\n",
      "Data columns (total 10 columns):\n",
      " #   Column         Non-Null Count  Dtype  \n",
      "---  ------         --------------  -----  \n",
      " 0   name           984 non-null    object \n",
      " 1   price_rs       984 non-null    int64  \n",
      " 2   processor      984 non-null    object \n",
      " 3   ram            984 non-null    object \n",
      " 4   os             984 non-null    object \n",
      " 5   storage        984 non-null    object \n",
      " 6   display_inch   984 non-null    float64\n",
      " 7   rating         688 non-null    float64\n",
      " 8   no_of_ratings  688 non-null    float64\n",
      " 9   no_of_reviews  688 non-null    float64\n",
      "dtypes: float64(4), int64(1), object(5)\n",
      "memory usage: 77.0+ KB\n"
     ]
    }
   ],
   "source": [
    "df.info()"
   ]
  },
  {
   "cell_type": "code",
   "execution_count": 8,
   "id": "193545f9",
   "metadata": {},
   "outputs": [
    {
     "data": {
      "text/plain": [
       "name               0\n",
       "price_rs           0\n",
       "processor          0\n",
       "ram                0\n",
       "os                 0\n",
       "storage            0\n",
       "display_inch       0\n",
       "rating           296\n",
       "no_of_ratings    296\n",
       "no_of_reviews    296\n",
       "dtype: int64"
      ]
     },
     "execution_count": 8,
     "metadata": {},
     "output_type": "execute_result"
    }
   ],
   "source": [
    "df.isna().sum()"
   ]
  },
  {
   "cell_type": "code",
   "execution_count": 9,
   "id": "4e289dc3",
   "metadata": {},
   "outputs": [],
   "source": [
    "df['rating'].fillna(df['rating'].mean(),inplace=True)\n",
    "df['no_of_ratings'].fillna(df['no_of_ratings'].mean(),inplace=True)\n",
    "df['no_of_reviews'].fillna(df['no_of_reviews'].mean(),inplace=True)"
   ]
  },
  {
   "cell_type": "code",
   "execution_count": 10,
   "id": "cb74ac60",
   "metadata": {},
   "outputs": [
    {
     "data": {
      "text/plain": [
       "name             0\n",
       "price_rs         0\n",
       "processor        0\n",
       "ram              0\n",
       "os               0\n",
       "storage          0\n",
       "display_inch     0\n",
       "rating           0\n",
       "no_of_ratings    0\n",
       "no_of_reviews    0\n",
       "dtype: int64"
      ]
     },
     "execution_count": 10,
     "metadata": {},
     "output_type": "execute_result"
    }
   ],
   "source": [
    "df.isna().sum()"
   ]
  },
  {
   "cell_type": "code",
   "execution_count": 11,
   "id": "128ec3eb",
   "metadata": {},
   "outputs": [
    {
     "data": {
      "text/plain": [
       "Lenovo Intel Core i5 11th Gen                   43\n",
       "Lenovo V15 G2 Core i3 11th Gen                  28\n",
       "DELL Vostro Ryzen 3 Quad Core 5425U             27\n",
       "Lenovo IdeaPad 3 Core i3 11th Gen               16\n",
       "Lenovo Intel Core i3 11th Gen                   16\n",
       "                                                ..\n",
       "DELL G15 Ryzen 5 Hexa Core AMD R5                1\n",
       "ASUS ASUS TUF Dash F15 Core i7 12th Gen          1\n",
       "ASUS VivoBook Ultra Ryzen 7 Octa Core AMD R7     1\n",
       "DELL Insprion 3511 Core i3 11th Gen              1\n",
       "ASUS Celeron Dual Core 10th Gen                  1\n",
       "Name: name, Length: 506, dtype: int64"
      ]
     },
     "execution_count": 11,
     "metadata": {},
     "output_type": "execute_result"
    }
   ],
   "source": [
    "df['name'].value_counts()"
   ]
  },
  {
   "cell_type": "code",
   "execution_count": 12,
   "id": "406b3466",
   "metadata": {},
   "outputs": [],
   "source": [
    "df['name']=df['name'].apply(lambda x:\" \".join(x.split()[0:1]))"
   ]
  },
  {
   "cell_type": "code",
   "execution_count": 13,
   "id": "2943ce5c",
   "metadata": {},
   "outputs": [
    {
     "data": {
      "text/html": [
       "<div>\n",
       "<style scoped>\n",
       "    .dataframe tbody tr th:only-of-type {\n",
       "        vertical-align: middle;\n",
       "    }\n",
       "\n",
       "    .dataframe tbody tr th {\n",
       "        vertical-align: top;\n",
       "    }\n",
       "\n",
       "    .dataframe thead th {\n",
       "        text-align: right;\n",
       "    }\n",
       "</style>\n",
       "<table border=\"1\" class=\"dataframe\">\n",
       "  <thead>\n",
       "    <tr style=\"text-align: right;\">\n",
       "      <th></th>\n",
       "      <th>name</th>\n",
       "      <th>price_rs</th>\n",
       "      <th>processor</th>\n",
       "      <th>ram</th>\n",
       "      <th>os</th>\n",
       "      <th>storage</th>\n",
       "      <th>display_inch</th>\n",
       "      <th>rating</th>\n",
       "      <th>no_of_ratings</th>\n",
       "      <th>no_of_reviews</th>\n",
       "    </tr>\n",
       "  </thead>\n",
       "  <tbody>\n",
       "    <tr>\n",
       "      <th>906</th>\n",
       "      <td>ASUS</td>\n",
       "      <td>189990</td>\n",
       "      <td>AMD Ryzen 9 Octa Core Processor</td>\n",
       "      <td>16 GB DDR5 RAM</td>\n",
       "      <td>64 bit Windows 11 Operating System</td>\n",
       "      <td>1 TB SSD</td>\n",
       "      <td>15.6</td>\n",
       "      <td>4.284884</td>\n",
       "      <td>718.09157</td>\n",
       "      <td>83.898256</td>\n",
       "    </tr>\n",
       "    <tr>\n",
       "      <th>151</th>\n",
       "      <td>Lenovo</td>\n",
       "      <td>52890</td>\n",
       "      <td>Intel Core i5 Processor (11th Gen)</td>\n",
       "      <td>16 GB DDR4 RAM</td>\n",
       "      <td>Windows 11 Operating System</td>\n",
       "      <td>512 GB SSD</td>\n",
       "      <td>15.6</td>\n",
       "      <td>4.500000</td>\n",
       "      <td>14.00000</td>\n",
       "      <td>1.000000</td>\n",
       "    </tr>\n",
       "    <tr>\n",
       "      <th>706</th>\n",
       "      <td>HP</td>\n",
       "      <td>81600</td>\n",
       "      <td>AMD Ryzen 7 Octa Core Processor</td>\n",
       "      <td>16 GB DDR4 RAM</td>\n",
       "      <td>64 bit Windows 11 Operating System</td>\n",
       "      <td>1 TB SSD</td>\n",
       "      <td>13.3</td>\n",
       "      <td>4.300000</td>\n",
       "      <td>8.00000</td>\n",
       "      <td>0.000000</td>\n",
       "    </tr>\n",
       "    <tr>\n",
       "      <th>139</th>\n",
       "      <td>DELL</td>\n",
       "      <td>42490</td>\n",
       "      <td>Intel Core i3 Processor (11th Gen)</td>\n",
       "      <td>8 GB DDR4 RAM</td>\n",
       "      <td>Windows 11 Operating System</td>\n",
       "      <td>1 TB HDD|256 GB SSD</td>\n",
       "      <td>15.6</td>\n",
       "      <td>4.200000</td>\n",
       "      <td>440.00000</td>\n",
       "      <td>40.000000</td>\n",
       "    </tr>\n",
       "    <tr>\n",
       "      <th>735</th>\n",
       "      <td>HP</td>\n",
       "      <td>160180</td>\n",
       "      <td>AMD Ryzen 9 Octa Core Processor</td>\n",
       "      <td>32 GB DDR5 RAM</td>\n",
       "      <td>64 bit Windows 11 Operating System</td>\n",
       "      <td>1 TB SSD</td>\n",
       "      <td>16.1</td>\n",
       "      <td>4.284884</td>\n",
       "      <td>718.09157</td>\n",
       "      <td>83.898256</td>\n",
       "    </tr>\n",
       "  </tbody>\n",
       "</table>\n",
       "</div>"
      ],
      "text/plain": [
       "       name  price_rs                           processor             ram  \\\n",
       "906    ASUS    189990     AMD Ryzen 9 Octa Core Processor  16 GB DDR5 RAM   \n",
       "151  Lenovo     52890  Intel Core i5 Processor (11th Gen)  16 GB DDR4 RAM   \n",
       "706      HP     81600     AMD Ryzen 7 Octa Core Processor  16 GB DDR4 RAM   \n",
       "139    DELL     42490  Intel Core i3 Processor (11th Gen)   8 GB DDR4 RAM   \n",
       "735      HP    160180     AMD Ryzen 9 Octa Core Processor  32 GB DDR5 RAM   \n",
       "\n",
       "                                     os              storage  display_inch  \\\n",
       "906  64 bit Windows 11 Operating System             1 TB SSD          15.6   \n",
       "151         Windows 11 Operating System           512 GB SSD          15.6   \n",
       "706  64 bit Windows 11 Operating System             1 TB SSD          13.3   \n",
       "139         Windows 11 Operating System  1 TB HDD|256 GB SSD          15.6   \n",
       "735  64 bit Windows 11 Operating System             1 TB SSD          16.1   \n",
       "\n",
       "       rating  no_of_ratings  no_of_reviews  \n",
       "906  4.284884      718.09157      83.898256  \n",
       "151  4.500000       14.00000       1.000000  \n",
       "706  4.300000        8.00000       0.000000  \n",
       "139  4.200000      440.00000      40.000000  \n",
       "735  4.284884      718.09157      83.898256  "
      ]
     },
     "execution_count": 13,
     "metadata": {},
     "output_type": "execute_result"
    }
   ],
   "source": [
    "df.sample(5)"
   ]
  },
  {
   "cell_type": "code",
   "execution_count": 14,
   "id": "7447c3ef",
   "metadata": {},
   "outputs": [
    {
     "data": {
      "text/plain": [
       "<AxesSubplot:>"
      ]
     },
     "execution_count": 14,
     "metadata": {},
     "output_type": "execute_result"
    },
    {
     "data": {
      "image/png": "[encoded data removed]",
      "text/plain": [
       "<Figure size 640x480 with 1 Axes>"
      ]
     },
     "metadata": {},
     "output_type": "display_data"
    }
   ],
   "source": [
    "df['name'].value_counts().plot(kind='bar')"
   ]
  },
  {
   "cell_type": "code",
   "execution_count": 15,
   "id": "843faac8",
   "metadata": {},
   "outputs": [
    {
     "data": {
      "text/plain": [
       "Intel Core i3 Processor (11th Gen)              131\n",
       "Intel Core i5 Processor (11th Gen)              129\n",
       "Intel Core i5 Processor (12th Gen)              101\n",
       "AMD Ryzen 5 Hexa Core Processor                  93\n",
       "AMD Ryzen 7 Octa Core Processor                  83\n",
       "Intel Core i7 Processor (12th Gen)               65\n",
       "AMD Ryzen 3 Quad Core Processor                  36\n",
       "Intel Core i5 Processor (10th Gen)               31\n",
       "Intel Core i3 Processor (10th Gen)               30\n",
       "Intel Core i7 Processor (10th Gen)               26\n",
       "Intel Core i7 Processor (11th Gen)               26\n",
       "Intel Celeron Dual Core Processor                23\n",
       "AMD Ryzen 9 Octa Core Processor                  20\n",
       "AMD Ryzen 3 Dual Core Processor                  20\n",
       "Intel Core i5 Processor (8th Gen)                16\n",
       "Apple M1 Processor                               14\n",
       "Apple M2 Processor                               13\n",
       "Intel Core i9 Processor (12th Gen)               13\n",
       "Intel Core i3 Processor (12th Gen)               12\n",
       "AMD Ryzen 5 Quad Core Processor                  11\n",
       "Intel Core i7 Processor (8th Gen)                 7\n",
       "Intel Pentium Quad Core Processor                 7\n",
       "Intel Core i9 Processor (11th Gen)                6\n",
       "Apple M1 Pro Processor                            5\n",
       "Intel Core i5 Processor (9th Gen)                 4\n",
       "Apple M2 Pro Processor                            4\n",
       "Intel Core i7 Processor (13th Gen)                4\n",
       "AMD Athlon Dual Core Processor                    4\n",
       "Intel Core i5 Processor (7th Gen)                 4\n",
       "Intel Core i7 Processor (7th Gen)                 3\n",
       "AMD Dual Core Processor                           3\n",
       "Intel Core i9 Processor (10th Gen)                3\n",
       "Intel Celeron Quad Core Processor                 3\n",
       "Intel Pentium Silver Processor                    3\n",
       "Intel Celeron Dual Core Processor (4th Gen)       2\n",
       "AMD Ryzen 5 Hexa Core Processor (10th Gen)        2\n",
       "AMD APU Dual Core A6 Processor                    2\n",
       "AMD Ryzen 9 Octa Core Processor (9th Gen)         2\n",
       "Intel Core i7 Processor (9th Gen)                 2\n",
       "Intel Core i3 Processor (7th Gen)                 2\n",
       "AMD Ryzen 7 Octa Core Processor (4th Gen)         1\n",
       "Intel Core i5 Processor (5th Gen)                 1\n",
       "Intel Core i5 Processor (4th Gen)                 1\n",
       "AMD Ryzen 3 Dual Core Processor (3rd Gen)         1\n",
       "MediaTek MediaTek Kompanio 500 Processor          1\n",
       "Intel Pentium Quad Core Processor (11th Gen)      1\n",
       "Intel Core i9 Processor (8th Gen)                 1\n",
       "AMD Ryzen 9 Octa Core Processor (5th Gen)         1\n",
       "Intel Core i7 Processor (6th Gen)                 1\n",
       "AMD Ryzen 9 Octa Core Processor (10th Gen)        1\n",
       "AMD Ryzen 7 Octa Core Processor (5th Gen)         1\n",
       "AMD Ryzen 5 Dual Core Processor (10th Gen)        1\n",
       "AMD Ryzen 7 Hexa Core Processor                   1\n",
       "AMD Ryzen 7 Quad Core Processor                   1\n",
       "AMD Ryzen 5 Dual Core Processor (5th Gen)         1\n",
       "Apple M1 Max Processor                            1\n",
       "Intel Core i9 Processor (13th Gen)                1\n",
       "Qualcomm Snapdragon 7c Gen 2 Processor            1\n",
       "Intel Celeron Dual Core Processor (10th Gen)      1\n",
       "Name: processor, dtype: int64"
      ]
     },
     "execution_count": 15,
     "metadata": {},
     "output_type": "execute_result"
    }
   ],
   "source": [
    "df['processor'].value_counts()"
   ]
  },
  {
   "cell_type": "code",
   "execution_count": 16,
   "id": "790a09d6",
   "metadata": {},
   "outputs": [],
   "source": [
    "df['processor']=df['processor'].apply(lambda x:\" \".join(x.split()[0:3]))"
   ]
  },
  {
   "cell_type": "code",
   "execution_count": 17,
   "id": "f544dd7e",
   "metadata": {},
   "outputs": [
    {
     "data": {
      "text/html": [
       "<div>\n",
       "<style scoped>\n",
       "    .dataframe tbody tr th:only-of-type {\n",
       "        vertical-align: middle;\n",
       "    }\n",
       "\n",
       "    .dataframe tbody tr th {\n",
       "        vertical-align: top;\n",
       "    }\n",
       "\n",
       "    .dataframe thead th {\n",
       "        text-align: right;\n",
       "    }\n",
       "</style>\n",
       "<table border=\"1\" class=\"dataframe\">\n",
       "  <thead>\n",
       "    <tr style=\"text-align: right;\">\n",
       "      <th></th>\n",
       "      <th>name</th>\n",
       "      <th>price_rs</th>\n",
       "      <th>processor</th>\n",
       "      <th>ram</th>\n",
       "      <th>os</th>\n",
       "      <th>storage</th>\n",
       "      <th>display_inch</th>\n",
       "      <th>rating</th>\n",
       "      <th>no_of_ratings</th>\n",
       "      <th>no_of_reviews</th>\n",
       "    </tr>\n",
       "  </thead>\n",
       "  <tbody>\n",
       "    <tr>\n",
       "      <th>900</th>\n",
       "      <td>Lenovo</td>\n",
       "      <td>52490</td>\n",
       "      <td>Intel Core i5</td>\n",
       "      <td>8 GB DDR3 RAM</td>\n",
       "      <td>64 bit Windows 8 Operating System</td>\n",
       "      <td>1 TB HDD</td>\n",
       "      <td>15.6</td>\n",
       "      <td>3.800000</td>\n",
       "      <td>78.00000</td>\n",
       "      <td>17.000000</td>\n",
       "    </tr>\n",
       "    <tr>\n",
       "      <th>676</th>\n",
       "      <td>ASUS</td>\n",
       "      <td>50990</td>\n",
       "      <td>Intel Core i5</td>\n",
       "      <td>8 GB DDR4 RAM</td>\n",
       "      <td>Windows 11 Operating System</td>\n",
       "      <td>512 GB SSD</td>\n",
       "      <td>15.6</td>\n",
       "      <td>4.284884</td>\n",
       "      <td>718.09157</td>\n",
       "      <td>83.898256</td>\n",
       "    </tr>\n",
       "    <tr>\n",
       "      <th>815</th>\n",
       "      <td>ASUS</td>\n",
       "      <td>85990</td>\n",
       "      <td>AMD Ryzen 7</td>\n",
       "      <td>16 GB DDR4 RAM</td>\n",
       "      <td>64 bit Windows 10 Operating System</td>\n",
       "      <td>512 GB SSD</td>\n",
       "      <td>17.3</td>\n",
       "      <td>4.500000</td>\n",
       "      <td>1468.00000</td>\n",
       "      <td>194.000000</td>\n",
       "    </tr>\n",
       "    <tr>\n",
       "      <th>211</th>\n",
       "      <td>ASUS</td>\n",
       "      <td>89990</td>\n",
       "      <td>Intel Core i5</td>\n",
       "      <td>16 GB LPDDR5 RAM</td>\n",
       "      <td>64 bit Windows 11 Operating System</td>\n",
       "      <td>512 GB SSD</td>\n",
       "      <td>15.6</td>\n",
       "      <td>4.400000</td>\n",
       "      <td>80.00000</td>\n",
       "      <td>12.000000</td>\n",
       "    </tr>\n",
       "    <tr>\n",
       "      <th>842</th>\n",
       "      <td>ASUS</td>\n",
       "      <td>22990</td>\n",
       "      <td>Intel Celeron Dual</td>\n",
       "      <td>4 GB LPDDR4 RAM</td>\n",
       "      <td>Chrome Operating System</td>\n",
       "      <td>512 GB SSD</td>\n",
       "      <td>11.6</td>\n",
       "      <td>4.000000</td>\n",
       "      <td>1853.00000</td>\n",
       "      <td>287.000000</td>\n",
       "    </tr>\n",
       "  </tbody>\n",
       "</table>\n",
       "</div>"
      ],
      "text/plain": [
       "       name  price_rs           processor               ram  \\\n",
       "900  Lenovo     52490       Intel Core i5     8 GB DDR3 RAM   \n",
       "676    ASUS     50990       Intel Core i5     8 GB DDR4 RAM   \n",
       "815    ASUS     85990         AMD Ryzen 7    16 GB DDR4 RAM   \n",
       "211    ASUS     89990       Intel Core i5  16 GB LPDDR5 RAM   \n",
       "842    ASUS     22990  Intel Celeron Dual   4 GB LPDDR4 RAM   \n",
       "\n",
       "                                     os     storage  display_inch    rating  \\\n",
       "900   64 bit Windows 8 Operating System    1 TB HDD          15.6  3.800000   \n",
       "676         Windows 11 Operating System  512 GB SSD          15.6  4.284884   \n",
       "815  64 bit Windows 10 Operating System  512 GB SSD          17.3  4.500000   \n",
       "211  64 bit Windows 11 Operating System  512 GB SSD          15.6  4.400000   \n",
       "842             Chrome Operating System  512 GB SSD          11.6  4.000000   \n",
       "\n",
       "     no_of_ratings  no_of_reviews  \n",
       "900       78.00000      17.000000  \n",
       "676      718.09157      83.898256  \n",
       "815     1468.00000     194.000000  \n",
       "211       80.00000      12.000000  \n",
       "842     1853.00000     287.000000  "
      ]
     },
     "execution_count": 17,
     "metadata": {},
     "output_type": "execute_result"
    }
   ],
   "source": [
    "df.sample(5)"
   ]
  },
  {
   "cell_type": "code",
   "execution_count": 18,
   "id": "0c1559e2",
   "metadata": {},
   "outputs": [
    {
     "data": {
      "text/plain": [
       "<AxesSubplot:>"
      ]
     },
     "execution_count": 18,
     "metadata": {},
     "output_type": "execute_result"
    },
    {
     "data": {
      "image/png": "[encoded data removed]",
      "text/plain": [
       "<Figure size 640x480 with 1 Axes>"
      ]
     },
     "metadata": {},
     "output_type": "display_data"
    }
   ],
   "source": [
    "df['processor'].value_counts().plot(kind='bar')"
   ]
  },
  {
   "cell_type": "code",
   "execution_count": 19,
   "id": "caea9306",
   "metadata": {},
   "outputs": [],
   "source": [
    "def fetch_processor(new):\n",
    "    if new == 'Intel Core i7' or new == 'Intel Core i5' or new == 'Intel Core i3' or new == 'Intel Core i9':\n",
    "        return new\n",
    "    else:\n",
    "        if new.split()[0]=='Intel':\n",
    "            return 'other Intel processor'\n",
    "        else:\n",
    "            return 'AMD processor'"
   ]
  },
  {
   "cell_type": "code",
   "execution_count": 20,
   "id": "1d616d1f",
   "metadata": {},
   "outputs": [],
   "source": [
    "df['processor']=df['processor'].apply(fetch_processor)"
   ]
  },
  {
   "cell_type": "code",
   "execution_count": 21,
   "id": "8df70790",
   "metadata": {},
   "outputs": [
    {
     "data": {
      "text/html": [
       "<div>\n",
       "<style scoped>\n",
       "    .dataframe tbody tr th:only-of-type {\n",
       "        vertical-align: middle;\n",
       "    }\n",
       "\n",
       "    .dataframe tbody tr th {\n",
       "        vertical-align: top;\n",
       "    }\n",
       "\n",
       "    .dataframe thead th {\n",
       "        text-align: right;\n",
       "    }\n",
       "</style>\n",
       "<table border=\"1\" class=\"dataframe\">\n",
       "  <thead>\n",
       "    <tr style=\"text-align: right;\">\n",
       "      <th></th>\n",
       "      <th>name</th>\n",
       "      <th>price_rs</th>\n",
       "      <th>processor</th>\n",
       "      <th>ram</th>\n",
       "      <th>os</th>\n",
       "      <th>storage</th>\n",
       "      <th>display_inch</th>\n",
       "      <th>rating</th>\n",
       "      <th>no_of_ratings</th>\n",
       "      <th>no_of_reviews</th>\n",
       "    </tr>\n",
       "  </thead>\n",
       "  <tbody>\n",
       "    <tr>\n",
       "      <th>29</th>\n",
       "      <td>ASUS</td>\n",
       "      <td>49990</td>\n",
       "      <td>AMD processor</td>\n",
       "      <td>8 GB DDR4 RAM</td>\n",
       "      <td>64 bit Windows 11 Operating System</td>\n",
       "      <td>1 TB HDD|256 GB SSD</td>\n",
       "      <td>15.6</td>\n",
       "      <td>4.4</td>\n",
       "      <td>1233.0</td>\n",
       "      <td>149.0</td>\n",
       "    </tr>\n",
       "    <tr>\n",
       "      <th>728</th>\n",
       "      <td>acer</td>\n",
       "      <td>67990</td>\n",
       "      <td>AMD processor</td>\n",
       "      <td>8 GB DDR4 RAM</td>\n",
       "      <td>64 bit Windows 11 Operating System</td>\n",
       "      <td>512 GB SSD</td>\n",
       "      <td>15.6</td>\n",
       "      <td>4.3</td>\n",
       "      <td>222.0</td>\n",
       "      <td>25.0</td>\n",
       "    </tr>\n",
       "    <tr>\n",
       "      <th>93</th>\n",
       "      <td>ASUS</td>\n",
       "      <td>51990</td>\n",
       "      <td>Intel Core i5</td>\n",
       "      <td>8 GB DDR4 RAM</td>\n",
       "      <td>Windows 11 Operating System</td>\n",
       "      <td>512 GB SSD</td>\n",
       "      <td>15.6</td>\n",
       "      <td>4.3</td>\n",
       "      <td>146.0</td>\n",
       "      <td>14.0</td>\n",
       "    </tr>\n",
       "  </tbody>\n",
       "</table>\n",
       "</div>"
      ],
      "text/plain": [
       "     name  price_rs      processor            ram  \\\n",
       "29   ASUS     49990  AMD processor  8 GB DDR4 RAM   \n",
       "728  acer     67990  AMD processor  8 GB DDR4 RAM   \n",
       "93   ASUS     51990  Intel Core i5  8 GB DDR4 RAM   \n",
       "\n",
       "                                     os              storage  display_inch  \\\n",
       "29   64 bit Windows 11 Operating System  1 TB HDD|256 GB SSD          15.6   \n",
       "728  64 bit Windows 11 Operating System           512 GB SSD          15.6   \n",
       "93          Windows 11 Operating System           512 GB SSD          15.6   \n",
       "\n",
       "     rating  no_of_ratings  no_of_reviews  \n",
       "29      4.4         1233.0          149.0  \n",
       "728     4.3          222.0           25.0  \n",
       "93      4.3          146.0           14.0  "
      ]
     },
     "execution_count": 21,
     "metadata": {},
     "output_type": "execute_result"
    }
   ],
   "source": [
    "df.sample(3)"
   ]
  },
  {
   "cell_type": "code",
   "execution_count": 22,
   "id": "d06d78cd",
   "metadata": {},
   "outputs": [
    {
     "data": {
      "text/plain": [
       "<AxesSubplot:>"
      ]
     },
     "execution_count": 22,
     "metadata": {},
     "output_type": "execute_result"
    },
    {
     "data": {
      "image/png": "[encoded data removed]",
      "text/plain": [
       "<Figure size 640x480 with 1 Axes>"
      ]
     },
     "metadata": {},
     "output_type": "display_data"
    }
   ],
   "source": [
    "df['processor'].value_counts().plot(kind='bar')"
   ]
  },
  {
   "cell_type": "code",
   "execution_count": 23,
   "id": "a8014f8b",
   "metadata": {},
   "outputs": [
    {
     "data": {
      "text/plain": [
       "8 GB DDR4 RAM               463\n",
       "16 GB DDR4 RAM              235\n",
       "16 GB DDR5 RAM               72\n",
       "4 GB DDR4 RAM                45\n",
       "8 GB LPDDR4X RAM             23\n",
       "16 GB LPDDR5 RAM             22\n",
       "32 GB DDR5 RAM               21\n",
       "16 GB LPDDR4X RAM            18\n",
       "4 GB LPDDR4 RAM              14\n",
       "16 GB Unified Memory RAM     13\n",
       "8 GB DDR5 RAM                12\n",
       "8 GB Unified Memory RAM       9\n",
       "32 GB DDR4 RAM                7\n",
       "8 GB DDR3 RAM                 7\n",
       "32 GB LPDDR5 RAM              5\n",
       "4 GB LPDDR4X RAM              5\n",
       "16 GB LPDDR3 RAM              5\n",
       "8 GB LPDDR3 RAM               4\n",
       "32 GB Unified Memory RAM      1\n",
       "16 GB LPDDR4 RAM              1\n",
       "32 GB LPDDR4X RAM             1\n",
       "16 GB DDR3 RAM                1\n",
       "Name: ram, dtype: int64"
      ]
     },
     "execution_count": 23,
     "metadata": {},
     "output_type": "execute_result"
    }
   ],
   "source": [
    "df['ram'].value_counts()"
   ]
  },
  {
   "cell_type": "code",
   "execution_count": 24,
   "id": "a9899204",
   "metadata": {},
   "outputs": [],
   "source": [
    "df['ram']=df['ram'].apply(lambda x:\" \".join(x.split()[0:2]))"
   ]
  },
  {
   "cell_type": "code",
   "execution_count": 25,
   "id": "bb6858b7",
   "metadata": {},
   "outputs": [
    {
     "data": {
      "text/html": [
       "<div>\n",
       "<style scoped>\n",
       "    .dataframe tbody tr th:only-of-type {\n",
       "        vertical-align: middle;\n",
       "    }\n",
       "\n",
       "    .dataframe tbody tr th {\n",
       "        vertical-align: top;\n",
       "    }\n",
       "\n",
       "    .dataframe thead th {\n",
       "        text-align: right;\n",
       "    }\n",
       "</style>\n",
       "<table border=\"1\" class=\"dataframe\">\n",
       "  <thead>\n",
       "    <tr style=\"text-align: right;\">\n",
       "      <th></th>\n",
       "      <th>name</th>\n",
       "      <th>price_rs</th>\n",
       "      <th>processor</th>\n",
       "      <th>ram</th>\n",
       "      <th>os</th>\n",
       "      <th>storage</th>\n",
       "      <th>display_inch</th>\n",
       "      <th>rating</th>\n",
       "      <th>no_of_ratings</th>\n",
       "      <th>no_of_reviews</th>\n",
       "    </tr>\n",
       "  </thead>\n",
       "  <tbody>\n",
       "    <tr>\n",
       "      <th>968</th>\n",
       "      <td>HP</td>\n",
       "      <td>76990</td>\n",
       "      <td>Intel Core i5</td>\n",
       "      <td>16 GB</td>\n",
       "      <td>Windows 11 Operating System</td>\n",
       "      <td>512 GB SSD</td>\n",
       "      <td>14.0</td>\n",
       "      <td>4.284884</td>\n",
       "      <td>718.09157</td>\n",
       "      <td>83.898256</td>\n",
       "    </tr>\n",
       "    <tr>\n",
       "      <th>840</th>\n",
       "      <td>MSI</td>\n",
       "      <td>59990</td>\n",
       "      <td>Intel Core i5</td>\n",
       "      <td>8 GB</td>\n",
       "      <td>64 bit Windows 10 Operating System</td>\n",
       "      <td>512 GB SSD</td>\n",
       "      <td>15.6</td>\n",
       "      <td>4.500000</td>\n",
       "      <td>1197.00000</td>\n",
       "      <td>151.000000</td>\n",
       "    </tr>\n",
       "    <tr>\n",
       "      <th>848</th>\n",
       "      <td>DELL</td>\n",
       "      <td>67990</td>\n",
       "      <td>AMD processor</td>\n",
       "      <td>16 GB</td>\n",
       "      <td>Windows 11 Operating System</td>\n",
       "      <td>512 GB SSD</td>\n",
       "      <td>16.0</td>\n",
       "      <td>4.284884</td>\n",
       "      <td>718.09157</td>\n",
       "      <td>83.898256</td>\n",
       "    </tr>\n",
       "  </tbody>\n",
       "</table>\n",
       "</div>"
      ],
      "text/plain": [
       "     name  price_rs      processor    ram                                  os  \\\n",
       "968    HP     76990  Intel Core i5  16 GB         Windows 11 Operating System   \n",
       "840   MSI     59990  Intel Core i5   8 GB  64 bit Windows 10 Operating System   \n",
       "848  DELL     67990  AMD processor  16 GB         Windows 11 Operating System   \n",
       "\n",
       "        storage  display_inch    rating  no_of_ratings  no_of_reviews  \n",
       "968  512 GB SSD          14.0  4.284884      718.09157      83.898256  \n",
       "840  512 GB SSD          15.6  4.500000     1197.00000     151.000000  \n",
       "848  512 GB SSD          16.0  4.284884      718.09157      83.898256  "
      ]
     },
     "execution_count": 25,
     "metadata": {},
     "output_type": "execute_result"
    }
   ],
   "source": [
    "df.sample(3)"
   ]
  },
  {
   "cell_type": "code",
   "execution_count": 26,
   "id": "85fe428a",
   "metadata": {},
   "outputs": [
    {
     "data": {
      "text/plain": [
       "<AxesSubplot:>"
      ]
     },
     "execution_count": 26,
     "metadata": {},
     "output_type": "execute_result"
    },
    {
     "data": {
      "image/png": "[encoded data removed]",
      "text/plain": [
       "<Figure size 640x480 with 1 Axes>"
      ]
     },
     "metadata": {},
     "output_type": "display_data"
    }
   ],
   "source": [
    "df['ram'].value_counts().plot(kind='bar')"
   ]
  },
  {
   "cell_type": "code",
   "execution_count": 27,
   "id": "495ee037",
   "metadata": {},
   "outputs": [
    {
     "data": {
      "text/plain": [
       "64 bit Windows 11 Operating System    527\n",
       "64 bit Windows 10 Operating System    195\n",
       "Windows 11 Operating System           183\n",
       "Mac OS Operating System                38\n",
       "Windows 10 Operating System            16\n",
       "Chrome Operating System                 8\n",
       "DOS Operating System                    6\n",
       "64 bit Chrome Operating System          6\n",
       "32 bit Windows 11 Operating System      3\n",
       "64 bit DOS Operating System             1\n",
       "64 bit Windows 8 Operating System       1\n",
       "Name: os, dtype: int64"
      ]
     },
     "execution_count": 27,
     "metadata": {},
     "output_type": "execute_result"
    }
   ],
   "source": [
    "df['os'].value_counts()"
   ]
  },
  {
   "cell_type": "code",
   "execution_count": 28,
   "id": "9b5e4dec",
   "metadata": {},
   "outputs": [
    {
     "data": {
      "image/png": "[encoded data removed]",
      "text/plain": [
       "<Figure size 640x480 with 1 Axes>"
      ]
     },
     "metadata": {},
     "output_type": "display_data"
    }
   ],
   "source": [
    "sns.barplot(x=df['os'],y=df['price_rs'])\n",
    "plt.xticks(rotation='vertical')\n",
    "plt.show()"
   ]
  },
  {
   "cell_type": "code",
   "execution_count": 29,
   "id": "b5b372cf",
   "metadata": {},
   "outputs": [],
   "source": [
    "def cat_os(test):\n",
    "    if test == 'Windows 11 Operating System' or test == 'Windows 10 Operating System' or test == '64 bit Windows 11 Operating System'or test=='64 bit Windows 10 Operating System'or test=='64 bit Windows 8 Operating System':\n",
    "        return 'Windows'\n",
    "    elif test== 'Mac OS Operating System':\n",
    "        return 'Mac'\n",
    "    else:\n",
    "        return 'DOS Operating/Chrome Operating/others'"
   ]
  },
  {
   "cell_type": "code",
   "execution_count": 30,
   "id": "734b6669",
   "metadata": {},
   "outputs": [],
   "source": [
    "df['os']=df['os'].apply(cat_os)"
   ]
  },
  {
   "cell_type": "code",
   "execution_count": 31,
   "id": "33bd14a8",
   "metadata": {},
   "outputs": [
    {
     "data": {
      "text/plain": [
       "<AxesSubplot:>"
      ]
     },
     "execution_count": 31,
     "metadata": {},
     "output_type": "execute_result"
    },
    {
     "data": {
      "image/png": "[encoded data removed]",
      "text/plain": [
       "<Figure size 640x480 with 1 Axes>"
      ]
     },
     "metadata": {},
     "output_type": "display_data"
    }
   ],
   "source": [
    "df['os'].value_counts().plot(kind='bar')"
   ]
  },
  {
   "cell_type": "code",
   "execution_count": 32,
   "id": "7121ce57",
   "metadata": {},
   "outputs": [
    {
     "data": {
      "text/html": [
       "<div>\n",
       "<style scoped>\n",
       "    .dataframe tbody tr th:only-of-type {\n",
       "        vertical-align: middle;\n",
       "    }\n",
       "\n",
       "    .dataframe tbody tr th {\n",
       "        vertical-align: top;\n",
       "    }\n",
       "\n",
       "    .dataframe thead th {\n",
       "        text-align: right;\n",
       "    }\n",
       "</style>\n",
       "<table border=\"1\" class=\"dataframe\">\n",
       "  <thead>\n",
       "    <tr style=\"text-align: right;\">\n",
       "      <th></th>\n",
       "      <th>name</th>\n",
       "      <th>price_rs</th>\n",
       "      <th>processor</th>\n",
       "      <th>ram</th>\n",
       "      <th>os</th>\n",
       "      <th>storage</th>\n",
       "      <th>display_inch</th>\n",
       "      <th>rating</th>\n",
       "      <th>no_of_ratings</th>\n",
       "      <th>no_of_reviews</th>\n",
       "    </tr>\n",
       "  </thead>\n",
       "  <tbody>\n",
       "    <tr>\n",
       "      <th>0</th>\n",
       "      <td>Lenovo</td>\n",
       "      <td>62990</td>\n",
       "      <td>Intel Core i5</td>\n",
       "      <td>16 GB</td>\n",
       "      <td>Windows</td>\n",
       "      <td>512 GB SSD</td>\n",
       "      <td>15.6</td>\n",
       "      <td>4.5</td>\n",
       "      <td>14.0</td>\n",
       "      <td>1.0</td>\n",
       "    </tr>\n",
       "    <tr>\n",
       "      <th>1</th>\n",
       "      <td>Lenovo</td>\n",
       "      <td>37500</td>\n",
       "      <td>Intel Core i3</td>\n",
       "      <td>8 GB</td>\n",
       "      <td>Windows</td>\n",
       "      <td>1 TB HDD|256 GB SSD</td>\n",
       "      <td>15.6</td>\n",
       "      <td>4.4</td>\n",
       "      <td>53.0</td>\n",
       "      <td>3.0</td>\n",
       "    </tr>\n",
       "    <tr>\n",
       "      <th>2</th>\n",
       "      <td>ASUS</td>\n",
       "      <td>49990</td>\n",
       "      <td>Intel Core i5</td>\n",
       "      <td>8 GB</td>\n",
       "      <td>Windows</td>\n",
       "      <td>512 GB SSD</td>\n",
       "      <td>15.6</td>\n",
       "      <td>4.4</td>\n",
       "      <td>4733.0</td>\n",
       "      <td>463.0</td>\n",
       "    </tr>\n",
       "    <tr>\n",
       "      <th>3</th>\n",
       "      <td>ASUS</td>\n",
       "      <td>33990</td>\n",
       "      <td>Intel Core i3</td>\n",
       "      <td>8 GB</td>\n",
       "      <td>Windows</td>\n",
       "      <td>512 GB SSD</td>\n",
       "      <td>15.6</td>\n",
       "      <td>4.3</td>\n",
       "      <td>10406.0</td>\n",
       "      <td>1040.0</td>\n",
       "    </tr>\n",
       "    <tr>\n",
       "      <th>4</th>\n",
       "      <td>Lenovo</td>\n",
       "      <td>18990</td>\n",
       "      <td>AMD processor</td>\n",
       "      <td>4 GB</td>\n",
       "      <td>DOS Operating/Chrome Operating/others</td>\n",
       "      <td>256 GB SSD</td>\n",
       "      <td>14.0</td>\n",
       "      <td>3.8</td>\n",
       "      <td>18.0</td>\n",
       "      <td>3.0</td>\n",
       "    </tr>\n",
       "  </tbody>\n",
       "</table>\n",
       "</div>"
      ],
      "text/plain": [
       "     name  price_rs      processor    ram  \\\n",
       "0  Lenovo     62990  Intel Core i5  16 GB   \n",
       "1  Lenovo     37500  Intel Core i3   8 GB   \n",
       "2    ASUS     49990  Intel Core i5   8 GB   \n",
       "3    ASUS     33990  Intel Core i3   8 GB   \n",
       "4  Lenovo     18990  AMD processor   4 GB   \n",
       "\n",
       "                                      os              storage  display_inch  \\\n",
       "0                                Windows           512 GB SSD          15.6   \n",
       "1                                Windows  1 TB HDD|256 GB SSD          15.6   \n",
       "2                                Windows           512 GB SSD          15.6   \n",
       "3                                Windows           512 GB SSD          15.6   \n",
       "4  DOS Operating/Chrome Operating/others           256 GB SSD          14.0   \n",
       "\n",
       "   rating  no_of_ratings  no_of_reviews  \n",
       "0     4.5           14.0            1.0  \n",
       "1     4.4           53.0            3.0  \n",
       "2     4.4         4733.0          463.0  \n",
       "3     4.3        10406.0         1040.0  \n",
       "4     3.8           18.0            3.0  "
      ]
     },
     "execution_count": 32,
     "metadata": {},
     "output_type": "execute_result"
    }
   ],
   "source": [
    "df.head(5)"
   ]
  },
  {
   "cell_type": "code",
   "execution_count": 36,
   "id": "1141c209",
   "metadata": {},
   "outputs": [
    {
     "name": "stdout",
     "output_type": "stream",
     "text": [
      "<class 'pandas.core.frame.DataFrame'>\n",
      "RangeIndex: 984 entries, 0 to 983\n",
      "Data columns (total 10 columns):\n",
      " #   Column         Non-Null Count  Dtype  \n",
      "---  ------         --------------  -----  \n",
      " 0   name           984 non-null    object \n",
      " 1   price_rs       984 non-null    int64  \n",
      " 2   processor      984 non-null    object \n",
      " 3   ram            984 non-null    object \n",
      " 4   os             984 non-null    object \n",
      " 5   storage        984 non-null    object \n",
      " 6   display_inch   984 non-null    float64\n",
      " 7   rating         984 non-null    float64\n",
      " 8   no_of_ratings  984 non-null    float64\n",
      " 9   no_of_reviews  984 non-null    float64\n",
      "dtypes: float64(4), int64(1), object(5)\n",
      "memory usage: 77.0+ KB\n"
     ]
    }
   ],
   "source": [
    "df.info()"
   ]
  },
  {
   "cell_type": "code",
   "execution_count": 38,
   "id": "86b1b050",
   "metadata": {},
   "outputs": [
    {
     "data": {
      "text/plain": [
       "{'ASUS': 230,\n",
       " 'Lenovo': 228,\n",
       " 'DELL': 162,\n",
       " 'HP': 156,\n",
       " 'acer': 59,\n",
       " 'MSI': 52,\n",
       " 'APPLE': 38,\n",
       " 'Infinix': 23,\n",
       " 'GIGABYTE': 6,\n",
       " 'Avita': 6,\n",
       " 'realme': 5,\n",
       " 'ALIENWARE': 4,\n",
       " 'SAMSUNG': 3,\n",
       " 'RedmiBook': 2,\n",
       " 'LG': 2,\n",
       " 'Vaio': 2,\n",
       " 'Ultimus': 2,\n",
       " 'Mi': 1,\n",
       " 'MICROSOFT': 1,\n",
       " 'lenovo': 1,\n",
       " 'Nokia': 1}"
      ]
     },
     "execution_count": 38,
     "metadata": {},
     "output_type": "execute_result"
    }
   ],
   "source": [
    "df['name'].value_counts().to_dict()"
   ]
  },
  {
   "cell_type": "code",
   "execution_count": 48,
   "id": "d085f084",
   "metadata": {},
   "outputs": [],
   "source": [
    "df['name'].replace({'ASUS':1,\n",
    "                 'Lenovo': 2,\n",
    "                 'DELL': 3,\n",
    "                 'HP': 4,\n",
    "                 'acer': 5,\n",
    "                 'MSI': 6,\n",
    "                 'APPLE': 7,\n",
    "                 'Infinix': 8,\n",
    "                 'GIGABYTE': 9,\n",
    "                 'Avita': 10,\n",
    "                 'realme': 11,\n",
    "                 'ALIENWARE': 12,\n",
    "                 'SAMSUNG': 13,\n",
    "                 'RedmiBook': 14,\n",
    "                 'LG': 15,\n",
    "                 'Vaio': 16,\n",
    "                 'Ultimus': 17,\n",
    "                 'Mi': 18,\n",
    "                 'MICROSOFT': 19,\n",
    "                 'lenovo': 20,\n",
    "                 'Nokia': 21},inplace=True)"
   ]
  },
  {
   "cell_type": "code",
   "execution_count": 51,
   "id": "a91c6ec3",
   "metadata": {},
   "outputs": [
    {
     "data": {
      "text/plain": [
       "{'AMD processor': 324,\n",
       " 'Intel Core i5': 287,\n",
       " 'Intel Core i3': 175,\n",
       " 'Intel Core i7': 134,\n",
       " 'other Intel processor': 40,\n",
       " 'Intel Core i9': 24}"
      ]
     },
     "execution_count": 51,
     "metadata": {},
     "output_type": "execute_result"
    }
   ],
   "source": [
    "df['processor'].value_counts().to_dict()"
   ]
  },
  {
   "cell_type": "code",
   "execution_count": 52,
   "id": "d265e97d",
   "metadata": {},
   "outputs": [],
   "source": [
    "df['processor'].replace({'AMD processor': 1,\n",
    "                         'Intel Core i5': 2,\n",
    "                         'Intel Core i3': 3,\n",
    "                         'Intel Core i7': 4,\n",
    "                         'other Intel processor': 5,\n",
    "                         'Intel Core i9': 6},inplace=True)"
   ]
  },
  {
   "cell_type": "code",
   "execution_count": 55,
   "id": "8874a331",
   "metadata": {},
   "outputs": [
    {
     "data": {
      "text/plain": [
       "{'8 GB': 518, '16 GB': 367, '4 GB': 64, '32 GB': 35}"
      ]
     },
     "execution_count": 55,
     "metadata": {},
     "output_type": "execute_result"
    }
   ],
   "source": [
    "df['ram'].value_counts().to_dict()"
   ]
  },
  {
   "cell_type": "code",
   "execution_count": 56,
   "id": "624ce01d",
   "metadata": {},
   "outputs": [],
   "source": [
    "df['ram'].replace({'8 GB': 1, '16 GB': 2, '4 GB': 3, '32 GB': 4},inplace=True)"
   ]
  },
  {
   "cell_type": "code",
   "execution_count": 62,
   "id": "1c8d9293",
   "metadata": {},
   "outputs": [
    {
     "data": {
      "text/plain": [
       "{1: 922, 2: 38, 3: 24}"
      ]
     },
     "execution_count": 62,
     "metadata": {},
     "output_type": "execute_result"
    }
   ],
   "source": [
    "df['os'].value_counts().to_dict()"
   ]
  },
  {
   "cell_type": "code",
   "execution_count": 60,
   "id": "1e75c25d",
   "metadata": {},
   "outputs": [],
   "source": [
    "df['os'].replace({'Windows': 1, 'Mac': 2, 'DOS Operating/Chrome Operating/others': 3},inplace=True)"
   ]
  },
  {
   "cell_type": "code",
   "execution_count": 65,
   "id": "03138f54",
   "metadata": {},
   "outputs": [
    {
     "data": {
      "text/plain": [
       "{'512 GB SSD': 575,\n",
       " '1 TB SSD': 154,\n",
       " '256 GB SSD': 123,\n",
       " '1 TB HDD|256 GB SSD': 63,\n",
       " '1 TB HDD': 33,\n",
       " '2 TB SSD': 11,\n",
       " '128 GB SSD': 8,\n",
       " '1 TB HDD|512 GB SSD': 4,\n",
       " '512 GB HDD|512 GB SSD': 3,\n",
       " '1 TB HDD|128 GB SSD': 3,\n",
       " '256 GB HDD|256 GB SSD': 2,\n",
       " '4 TB SSD': 1,\n",
       " 'PCI-e SSD (NVMe) ready,Silver-Lining Print Keyboard,Matrix Display (Extend),Cooler Boost 5,Hi-Res Audio,Nahimic 3,144Hz Panel,Thin Bezel,RGB Gaming Keyboard,Speaker Tuning Engine,MSI Center': 1,\n",
       " 'PCI-e Gen4 SSD?SHIFT?Matrix Display (Extend)?Cooler Boost 3?Thunderbolt 4?Finger Print Security?True Color 2.0?Hi-Res Audio?Nahimic 3? 4-Sided Thin bezel?MSI Center?Silky Smooth Touchpad?Military-Grade Durability': 1,\n",
       " '2 TB HDD': 1,\n",
       " '256 GB HDD': 1}"
      ]
     },
     "execution_count": 65,
     "metadata": {},
     "output_type": "execute_result"
    }
   ],
   "source": [
    "df['storage'].value_counts().to_dict()"
   ]
  },
  {
   "cell_type": "code",
   "execution_count": 67,
   "id": "c4376040",
   "metadata": {},
   "outputs": [],
   "source": [
    "df['storage'].replace({'512 GB SSD': 1,\n",
    "                         '1 TB SSD': 2,\n",
    "                         '256 GB SSD': 3,\n",
    "                         '1 TB HDD|256 GB SSD': 4,\n",
    "                         '1 TB HDD': 5,\n",
    "                         '2 TB SSD': 6,\n",
    "                         '128 GB SSD': 7,\n",
    "                         '1 TB HDD|512 GB SSD': 8,\n",
    "                         '512 GB HDD|512 GB SSD': 9,\n",
    "                         '1 TB HDD|128 GB SSD': 10,\n",
    "                         '256 GB HDD|256 GB SSD': 11,\n",
    "                         '4 TB SSD': 12,\n",
    "                         'PCI-e SSD (NVMe) ready,Silver-Lining Print Keyboard,Matrix Display (Extend),Cooler Boost 5,Hi-Res Audio,Nahimic 3,144Hz Panel,Thin Bezel,RGB Gaming Keyboard,Speaker Tuning Engine,MSI Center': 13,\n",
    "                         'PCI-e Gen4 SSD?SHIFT?Matrix Display (Extend)?Cooler Boost 3?Thunderbolt 4?Finger Print Security?True Color 2.0?Hi-Res Audio?Nahimic 3? 4-Sided Thin bezel?MSI Center?Silky Smooth Touchpad?Military-Grade Durability': 14,\n",
    "                         '2 TB HDD': 15,\n",
    "                         '256 GB HDD': 16},inplace=True)"
   ]
  },
  {
   "cell_type": "code",
   "execution_count": 68,
   "id": "916f4ca7",
   "metadata": {},
   "outputs": [
    {
     "name": "stdout",
     "output_type": "stream",
     "text": [
      "<class 'pandas.core.frame.DataFrame'>\n",
      "RangeIndex: 984 entries, 0 to 983\n",
      "Data columns (total 10 columns):\n",
      " #   Column         Non-Null Count  Dtype  \n",
      "---  ------         --------------  -----  \n",
      " 0   name           984 non-null    int64  \n",
      " 1   price_rs       984 non-null    int64  \n",
      " 2   processor      984 non-null    int64  \n",
      " 3   ram            984 non-null    int64  \n",
      " 4   os             984 non-null    int64  \n",
      " 5   storage        984 non-null    int64  \n",
      " 6   display_inch   984 non-null    float64\n",
      " 7   rating         984 non-null    float64\n",
      " 8   no_of_ratings  984 non-null    float64\n",
      " 9   no_of_reviews  984 non-null    float64\n",
      "dtypes: float64(4), int64(6)\n",
      "memory usage: 77.0 KB\n"
     ]
    }
   ],
   "source": [
    "df.info()"
   ]
  },
  {
   "cell_type": "code",
   "execution_count": 69,
   "id": "5b7d0943",
   "metadata": {},
   "outputs": [
    {
     "data": {
      "text/html": [
       "<div>\n",
       "<style scoped>\n",
       "    .dataframe tbody tr th:only-of-type {\n",
       "        vertical-align: middle;\n",
       "    }\n",
       "\n",
       "    .dataframe tbody tr th {\n",
       "        vertical-align: top;\n",
       "    }\n",
       "\n",
       "    .dataframe thead th {\n",
       "        text-align: right;\n",
       "    }\n",
       "</style>\n",
       "<table border=\"1\" class=\"dataframe\">\n",
       "  <thead>\n",
       "    <tr style=\"text-align: right;\">\n",
       "      <th></th>\n",
       "      <th>name</th>\n",
       "      <th>price_rs</th>\n",
       "      <th>processor</th>\n",
       "      <th>ram</th>\n",
       "      <th>os</th>\n",
       "      <th>storage</th>\n",
       "      <th>display_inch</th>\n",
       "      <th>rating</th>\n",
       "      <th>no_of_ratings</th>\n",
       "      <th>no_of_reviews</th>\n",
       "    </tr>\n",
       "  </thead>\n",
       "  <tbody>\n",
       "    <tr>\n",
       "      <th>0</th>\n",
       "      <td>2</td>\n",
       "      <td>62990</td>\n",
       "      <td>2</td>\n",
       "      <td>2</td>\n",
       "      <td>1</td>\n",
       "      <td>1</td>\n",
       "      <td>15.6</td>\n",
       "      <td>4.500000</td>\n",
       "      <td>14.00000</td>\n",
       "      <td>1.000000</td>\n",
       "    </tr>\n",
       "    <tr>\n",
       "      <th>1</th>\n",
       "      <td>2</td>\n",
       "      <td>37500</td>\n",
       "      <td>3</td>\n",
       "      <td>1</td>\n",
       "      <td>1</td>\n",
       "      <td>4</td>\n",
       "      <td>15.6</td>\n",
       "      <td>4.400000</td>\n",
       "      <td>53.00000</td>\n",
       "      <td>3.000000</td>\n",
       "    </tr>\n",
       "    <tr>\n",
       "      <th>2</th>\n",
       "      <td>1</td>\n",
       "      <td>49990</td>\n",
       "      <td>2</td>\n",
       "      <td>1</td>\n",
       "      <td>1</td>\n",
       "      <td>1</td>\n",
       "      <td>15.6</td>\n",
       "      <td>4.400000</td>\n",
       "      <td>4733.00000</td>\n",
       "      <td>463.000000</td>\n",
       "    </tr>\n",
       "    <tr>\n",
       "      <th>3</th>\n",
       "      <td>1</td>\n",
       "      <td>33990</td>\n",
       "      <td>3</td>\n",
       "      <td>1</td>\n",
       "      <td>1</td>\n",
       "      <td>1</td>\n",
       "      <td>15.6</td>\n",
       "      <td>4.300000</td>\n",
       "      <td>10406.00000</td>\n",
       "      <td>1040.000000</td>\n",
       "    </tr>\n",
       "    <tr>\n",
       "      <th>4</th>\n",
       "      <td>2</td>\n",
       "      <td>18990</td>\n",
       "      <td>1</td>\n",
       "      <td>3</td>\n",
       "      <td>3</td>\n",
       "      <td>3</td>\n",
       "      <td>14.0</td>\n",
       "      <td>3.800000</td>\n",
       "      <td>18.00000</td>\n",
       "      <td>3.000000</td>\n",
       "    </tr>\n",
       "    <tr>\n",
       "      <th>...</th>\n",
       "      <td>...</td>\n",
       "      <td>...</td>\n",
       "      <td>...</td>\n",
       "      <td>...</td>\n",
       "      <td>...</td>\n",
       "      <td>...</td>\n",
       "      <td>...</td>\n",
       "      <td>...</td>\n",
       "      <td>...</td>\n",
       "      <td>...</td>\n",
       "    </tr>\n",
       "    <tr>\n",
       "      <th>979</th>\n",
       "      <td>1</td>\n",
       "      <td>37990</td>\n",
       "      <td>3</td>\n",
       "      <td>1</td>\n",
       "      <td>1</td>\n",
       "      <td>5</td>\n",
       "      <td>15.6</td>\n",
       "      <td>4.000000</td>\n",
       "      <td>1907.00000</td>\n",
       "      <td>227.000000</td>\n",
       "    </tr>\n",
       "    <tr>\n",
       "      <th>980</th>\n",
       "      <td>4</td>\n",
       "      <td>22670</td>\n",
       "      <td>1</td>\n",
       "      <td>3</td>\n",
       "      <td>3</td>\n",
       "      <td>5</td>\n",
       "      <td>11.6</td>\n",
       "      <td>3.800000</td>\n",
       "      <td>5991.00000</td>\n",
       "      <td>687.000000</td>\n",
       "    </tr>\n",
       "    <tr>\n",
       "      <th>981</th>\n",
       "      <td>1</td>\n",
       "      <td>54990</td>\n",
       "      <td>1</td>\n",
       "      <td>1</td>\n",
       "      <td>1</td>\n",
       "      <td>1</td>\n",
       "      <td>14.0</td>\n",
       "      <td>4.500000</td>\n",
       "      <td>22.00000</td>\n",
       "      <td>5.000000</td>\n",
       "    </tr>\n",
       "    <tr>\n",
       "      <th>982</th>\n",
       "      <td>3</td>\n",
       "      <td>40990</td>\n",
       "      <td>3</td>\n",
       "      <td>1</td>\n",
       "      <td>1</td>\n",
       "      <td>4</td>\n",
       "      <td>15.6</td>\n",
       "      <td>4.000000</td>\n",
       "      <td>801.00000</td>\n",
       "      <td>104.000000</td>\n",
       "    </tr>\n",
       "    <tr>\n",
       "      <th>983</th>\n",
       "      <td>1</td>\n",
       "      <td>24540</td>\n",
       "      <td>5</td>\n",
       "      <td>3</td>\n",
       "      <td>1</td>\n",
       "      <td>3</td>\n",
       "      <td>14.0</td>\n",
       "      <td>4.284884</td>\n",
       "      <td>718.09157</td>\n",
       "      <td>83.898256</td>\n",
       "    </tr>\n",
       "  </tbody>\n",
       "</table>\n",
       "<p>984 rows × 10 columns</p>\n",
       "</div>"
      ],
      "text/plain": [
       "     name  price_rs  processor  ram  os  storage  display_inch    rating  \\\n",
       "0       2     62990          2    2   1        1          15.6  4.500000   \n",
       "1       2     37500          3    1   1        4          15.6  4.400000   \n",
       "2       1     49990          2    1   1        1          15.6  4.400000   \n",
       "3       1     33990          3    1   1        1          15.6  4.300000   \n",
       "4       2     18990          1    3   3        3          14.0  3.800000   \n",
       "..    ...       ...        ...  ...  ..      ...           ...       ...   \n",
       "979     1     37990          3    1   1        5          15.6  4.000000   \n",
       "980     4     22670          1    3   3        5          11.6  3.800000   \n",
       "981     1     54990          1    1   1        1          14.0  4.500000   \n",
       "982     3     40990          3    1   1        4          15.6  4.000000   \n",
       "983     1     24540          5    3   1        3          14.0  4.284884   \n",
       "\n",
       "     no_of_ratings  no_of_reviews  \n",
       "0         14.00000       1.000000  \n",
       "1         53.00000       3.000000  \n",
       "2       4733.00000     463.000000  \n",
       "3      10406.00000    1040.000000  \n",
       "4         18.00000       3.000000  \n",
       "..             ...            ...  \n",
       "979     1907.00000     227.000000  \n",
       "980     5991.00000     687.000000  \n",
       "981       22.00000       5.000000  \n",
       "982      801.00000     104.000000  \n",
       "983      718.09157      83.898256  \n",
       "\n",
       "[984 rows x 10 columns]"
      ]
     },
     "execution_count": 69,
     "metadata": {},
     "output_type": "execute_result"
    }
   ],
   "source": [
    "df"
   ]
  },
  {
   "cell_type": "code",
   "execution_count": 35,
   "id": "1fc5cde6",
   "metadata": {},
   "outputs": [
    {
     "data": {
      "text/plain": [
       "Index(['name', 'price_rs', 'processor', 'ram', 'os', 'storage', 'display_inch',\n",
       "       'rating', 'no_of_ratings', 'no_of_reviews'],\n",
       "      dtype='object')"
      ]
     },
     "execution_count": 35,
     "metadata": {},
     "output_type": "execute_result"
    }
   ],
   "source": [
    "df.columns"
   ]
  },
  {
   "cell_type": "code",
   "execution_count": 70,
   "id": "1633c99d",
   "metadata": {},
   "outputs": [
    {
     "data": {
      "text/html": [
       "<div>\n",
       "<style scoped>\n",
       "    .dataframe tbody tr th:only-of-type {\n",
       "        vertical-align: middle;\n",
       "    }\n",
       "\n",
       "    .dataframe tbody tr th {\n",
       "        vertical-align: top;\n",
       "    }\n",
       "\n",
       "    .dataframe thead th {\n",
       "        text-align: right;\n",
       "    }\n",
       "</style>\n",
       "<table border=\"1\" class=\"dataframe\">\n",
       "  <thead>\n",
       "    <tr style=\"text-align: right;\">\n",
       "      <th></th>\n",
       "      <th>name</th>\n",
       "      <th>price_rs</th>\n",
       "      <th>processor</th>\n",
       "      <th>ram</th>\n",
       "      <th>os</th>\n",
       "      <th>storage</th>\n",
       "      <th>display_inch</th>\n",
       "      <th>rating</th>\n",
       "      <th>no_of_ratings</th>\n",
       "      <th>no_of_reviews</th>\n",
       "    </tr>\n",
       "  </thead>\n",
       "  <tbody>\n",
       "    <tr>\n",
       "      <th>count</th>\n",
       "      <td>984.000000</td>\n",
       "      <td>984.000000</td>\n",
       "      <td>984.000000</td>\n",
       "      <td>984.000000</td>\n",
       "      <td>984.000000</td>\n",
       "      <td>984.000000</td>\n",
       "      <td>984.000000</td>\n",
       "      <td>984.000000</td>\n",
       "      <td>984.00000</td>\n",
       "      <td>984.000000</td>\n",
       "    </tr>\n",
       "    <tr>\n",
       "      <th>mean</th>\n",
       "      <td>3.364837</td>\n",
       "      <td>80960.720528</td>\n",
       "      <td>2.340447</td>\n",
       "      <td>1.609756</td>\n",
       "      <td>1.087398</td>\n",
       "      <td>2.004065</td>\n",
       "      <td>15.148374</td>\n",
       "      <td>4.284884</td>\n",
       "      <td>718.09157</td>\n",
       "      <td>83.898256</td>\n",
       "    </tr>\n",
       "    <tr>\n",
       "      <th>std</th>\n",
       "      <td>2.643255</td>\n",
       "      <td>57421.220919</td>\n",
       "      <td>1.301439</td>\n",
       "      <td>0.762916</td>\n",
       "      <td>0.358708</td>\n",
       "      <td>1.746376</td>\n",
       "      <td>1.332078</td>\n",
       "      <td>0.276077</td>\n",
       "      <td>1463.66797</td>\n",
       "      <td>176.892962</td>\n",
       "    </tr>\n",
       "    <tr>\n",
       "      <th>min</th>\n",
       "      <td>1.000000</td>\n",
       "      <td>15990.000000</td>\n",
       "      <td>1.000000</td>\n",
       "      <td>1.000000</td>\n",
       "      <td>1.000000</td>\n",
       "      <td>1.000000</td>\n",
       "      <td>11.600000</td>\n",
       "      <td>1.600000</td>\n",
       "      <td>1.00000</td>\n",
       "      <td>0.000000</td>\n",
       "    </tr>\n",
       "    <tr>\n",
       "      <th>25%</th>\n",
       "      <td>2.000000</td>\n",
       "      <td>42655.000000</td>\n",
       "      <td>1.000000</td>\n",
       "      <td>1.000000</td>\n",
       "      <td>1.000000</td>\n",
       "      <td>1.000000</td>\n",
       "      <td>14.000000</td>\n",
       "      <td>4.200000</td>\n",
       "      <td>37.00000</td>\n",
       "      <td>3.000000</td>\n",
       "    </tr>\n",
       "    <tr>\n",
       "      <th>50%</th>\n",
       "      <td>3.000000</td>\n",
       "      <td>62990.000000</td>\n",
       "      <td>2.000000</td>\n",
       "      <td>1.000000</td>\n",
       "      <td>1.000000</td>\n",
       "      <td>1.000000</td>\n",
       "      <td>15.600000</td>\n",
       "      <td>4.284884</td>\n",
       "      <td>385.00000</td>\n",
       "      <td>39.500000</td>\n",
       "    </tr>\n",
       "    <tr>\n",
       "      <th>75%</th>\n",
       "      <td>4.000000</td>\n",
       "      <td>94990.000000</td>\n",
       "      <td>3.000000</td>\n",
       "      <td>2.000000</td>\n",
       "      <td>1.000000</td>\n",
       "      <td>3.000000</td>\n",
       "      <td>15.600000</td>\n",
       "      <td>4.400000</td>\n",
       "      <td>718.09157</td>\n",
       "      <td>83.898256</td>\n",
       "    </tr>\n",
       "    <tr>\n",
       "      <th>max</th>\n",
       "      <td>21.000000</td>\n",
       "      <td>419990.000000</td>\n",
       "      <td>6.000000</td>\n",
       "      <td>4.000000</td>\n",
       "      <td>3.000000</td>\n",
       "      <td>16.000000</td>\n",
       "      <td>35.000000</td>\n",
       "      <td>5.000000</td>\n",
       "      <td>15492.00000</td>\n",
       "      <td>2054.000000</td>\n",
       "    </tr>\n",
       "  </tbody>\n",
       "</table>\n",
       "</div>"
      ],
      "text/plain": [
       "             name       price_rs   processor         ram          os  \\\n",
       "count  984.000000     984.000000  984.000000  984.000000  984.000000   \n",
       "mean     3.364837   80960.720528    2.340447    1.609756    1.087398   \n",
       "std      2.643255   57421.220919    1.301439    0.762916    0.358708   \n",
       "min      1.000000   15990.000000    1.000000    1.000000    1.000000   \n",
       "25%      2.000000   42655.000000    1.000000    1.000000    1.000000   \n",
       "50%      3.000000   62990.000000    2.000000    1.000000    1.000000   \n",
       "75%      4.000000   94990.000000    3.000000    2.000000    1.000000   \n",
       "max     21.000000  419990.000000    6.000000    4.000000    3.000000   \n",
       "\n",
       "          storage  display_inch      rating  no_of_ratings  no_of_reviews  \n",
       "count  984.000000    984.000000  984.000000      984.00000     984.000000  \n",
       "mean     2.004065     15.148374    4.284884      718.09157      83.898256  \n",
       "std      1.746376      1.332078    0.276077     1463.66797     176.892962  \n",
       "min      1.000000     11.600000    1.600000        1.00000       0.000000  \n",
       "25%      1.000000     14.000000    4.200000       37.00000       3.000000  \n",
       "50%      1.000000     15.600000    4.284884      385.00000      39.500000  \n",
       "75%      3.000000     15.600000    4.400000      718.09157      83.898256  \n",
       "max     16.000000     35.000000    5.000000    15492.00000    2054.000000  "
      ]
     },
     "execution_count": 70,
     "metadata": {},
     "output_type": "execute_result"
    }
   ],
   "source": [
    "df.describe()"
   ]
  },
  {
   "cell_type": "code",
   "execution_count": 71,
   "id": "fca373ec",
   "metadata": {},
   "outputs": [
    {
     "data": {
      "text/plain": [
       "<AxesSubplot:>"
      ]
     },
     "execution_count": 71,
     "metadata": {},
     "output_type": "execute_result"
    },
    {
     "data": {
      "image/png": "[encoded data removed]",
      "text/plain": [
       "<Figure size 1500x1000 with 2 Axes>"
      ]
     },
     "metadata": {},
     "output_type": "display_data"
    }
   ],
   "source": [
    "plt.figure(figsize= (15,10))\n",
    "sns.heatmap(df.corr(),annot=True)"
   ]
  },
  {
   "cell_type": "code",
   "execution_count": 72,
   "id": "a440b88f",
   "metadata": {},
   "outputs": [
    {
     "data": {
      "text/plain": [
       "name             0.071590\n",
       "price_rs         1.000000\n",
       "processor        0.187687\n",
       "ram              0.503412\n",
       "os               0.015669\n",
       "storage          0.033857\n",
       "display_inch     0.088121\n",
       "rating           0.173021\n",
       "no_of_ratings   -0.076694\n",
       "no_of_reviews   -0.074378\n",
       "Name: price_rs, dtype: float64"
      ]
     },
     "execution_count": 72,
     "metadata": {},
     "output_type": "execute_result"
    }
   ],
   "source": [
    "df.corr()['price_rs']"
   ]
  },
  {
   "cell_type": "code",
   "execution_count": 74,
   "id": "5e308973",
   "metadata": {},
   "outputs": [],
   "source": [
    "x = df.drop('price_rs',axis=1)\n",
    "y=df['price_rs']"
   ]
  },
  {
   "cell_type": "code",
   "execution_count": 77,
   "id": "15c4b310",
   "metadata": {},
   "outputs": [
    {
     "data": {
      "text/html": [
       "<div>\n",
       "<style scoped>\n",
       "    .dataframe tbody tr th:only-of-type {\n",
       "        vertical-align: middle;\n",
       "    }\n",
       "\n",
       "    .dataframe tbody tr th {\n",
       "        vertical-align: top;\n",
       "    }\n",
       "\n",
       "    .dataframe thead th {\n",
       "        text-align: right;\n",
       "    }\n",
       "</style>\n",
       "<table border=\"1\" class=\"dataframe\">\n",
       "  <thead>\n",
       "    <tr style=\"text-align: right;\">\n",
       "      <th></th>\n",
       "      <th>name</th>\n",
       "      <th>processor</th>\n",
       "      <th>ram</th>\n",
       "      <th>os</th>\n",
       "      <th>storage</th>\n",
       "      <th>display_inch</th>\n",
       "      <th>rating</th>\n",
       "      <th>no_of_ratings</th>\n",
       "      <th>no_of_reviews</th>\n",
       "    </tr>\n",
       "  </thead>\n",
       "  <tbody>\n",
       "    <tr>\n",
       "      <th>0</th>\n",
       "      <td>0.05</td>\n",
       "      <td>0.2</td>\n",
       "      <td>0.333333</td>\n",
       "      <td>0.0</td>\n",
       "      <td>0.000000</td>\n",
       "      <td>0.170940</td>\n",
       "      <td>0.852941</td>\n",
       "      <td>0.000839</td>\n",
       "      <td>0.000487</td>\n",
       "    </tr>\n",
       "    <tr>\n",
       "      <th>1</th>\n",
       "      <td>0.05</td>\n",
       "      <td>0.4</td>\n",
       "      <td>0.000000</td>\n",
       "      <td>0.0</td>\n",
       "      <td>0.200000</td>\n",
       "      <td>0.170940</td>\n",
       "      <td>0.823529</td>\n",
       "      <td>0.003357</td>\n",
       "      <td>0.001461</td>\n",
       "    </tr>\n",
       "    <tr>\n",
       "      <th>2</th>\n",
       "      <td>0.00</td>\n",
       "      <td>0.2</td>\n",
       "      <td>0.000000</td>\n",
       "      <td>0.0</td>\n",
       "      <td>0.000000</td>\n",
       "      <td>0.170940</td>\n",
       "      <td>0.823529</td>\n",
       "      <td>0.305468</td>\n",
       "      <td>0.225414</td>\n",
       "    </tr>\n",
       "    <tr>\n",
       "      <th>3</th>\n",
       "      <td>0.00</td>\n",
       "      <td>0.4</td>\n",
       "      <td>0.000000</td>\n",
       "      <td>0.0</td>\n",
       "      <td>0.000000</td>\n",
       "      <td>0.170940</td>\n",
       "      <td>0.794118</td>\n",
       "      <td>0.671680</td>\n",
       "      <td>0.506329</td>\n",
       "    </tr>\n",
       "    <tr>\n",
       "      <th>4</th>\n",
       "      <td>0.05</td>\n",
       "      <td>0.0</td>\n",
       "      <td>0.666667</td>\n",
       "      <td>1.0</td>\n",
       "      <td>0.133333</td>\n",
       "      <td>0.102564</td>\n",
       "      <td>0.647059</td>\n",
       "      <td>0.001097</td>\n",
       "      <td>0.001461</td>\n",
       "    </tr>\n",
       "    <tr>\n",
       "      <th>...</th>\n",
       "      <td>...</td>\n",
       "      <td>...</td>\n",
       "      <td>...</td>\n",
       "      <td>...</td>\n",
       "      <td>...</td>\n",
       "      <td>...</td>\n",
       "      <td>...</td>\n",
       "      <td>...</td>\n",
       "      <td>...</td>\n",
       "    </tr>\n",
       "    <tr>\n",
       "      <th>979</th>\n",
       "      <td>0.00</td>\n",
       "      <td>0.4</td>\n",
       "      <td>0.000000</td>\n",
       "      <td>0.0</td>\n",
       "      <td>0.266667</td>\n",
       "      <td>0.170940</td>\n",
       "      <td>0.705882</td>\n",
       "      <td>0.123039</td>\n",
       "      <td>0.110516</td>\n",
       "    </tr>\n",
       "    <tr>\n",
       "      <th>980</th>\n",
       "      <td>0.15</td>\n",
       "      <td>0.0</td>\n",
       "      <td>0.666667</td>\n",
       "      <td>1.0</td>\n",
       "      <td>0.266667</td>\n",
       "      <td>0.000000</td>\n",
       "      <td>0.647059</td>\n",
       "      <td>0.386676</td>\n",
       "      <td>0.334469</td>\n",
       "    </tr>\n",
       "    <tr>\n",
       "      <th>981</th>\n",
       "      <td>0.00</td>\n",
       "      <td>0.0</td>\n",
       "      <td>0.000000</td>\n",
       "      <td>0.0</td>\n",
       "      <td>0.000000</td>\n",
       "      <td>0.102564</td>\n",
       "      <td>0.852941</td>\n",
       "      <td>0.001356</td>\n",
       "      <td>0.002434</td>\n",
       "    </tr>\n",
       "    <tr>\n",
       "      <th>982</th>\n",
       "      <td>0.10</td>\n",
       "      <td>0.4</td>\n",
       "      <td>0.000000</td>\n",
       "      <td>0.0</td>\n",
       "      <td>0.200000</td>\n",
       "      <td>0.170940</td>\n",
       "      <td>0.705882</td>\n",
       "      <td>0.051643</td>\n",
       "      <td>0.050633</td>\n",
       "    </tr>\n",
       "    <tr>\n",
       "      <th>983</th>\n",
       "      <td>0.00</td>\n",
       "      <td>0.8</td>\n",
       "      <td>0.666667</td>\n",
       "      <td>0.0</td>\n",
       "      <td>0.133333</td>\n",
       "      <td>0.102564</td>\n",
       "      <td>0.789672</td>\n",
       "      <td>0.046291</td>\n",
       "      <td>0.040846</td>\n",
       "    </tr>\n",
       "  </tbody>\n",
       "</table>\n",
       "<p>984 rows × 9 columns</p>\n",
       "</div>"
      ],
      "text/plain": [
       "     name  processor       ram   os   storage  display_inch    rating  \\\n",
       "0    0.05        0.2  0.333333  0.0  0.000000      0.170940  0.852941   \n",
       "1    0.05        0.4  0.000000  0.0  0.200000      0.170940  0.823529   \n",
       "2    0.00        0.2  0.000000  0.0  0.000000      0.170940  0.823529   \n",
       "3    0.00        0.4  0.000000  0.0  0.000000      0.170940  0.794118   \n",
       "4    0.05        0.0  0.666667  1.0  0.133333      0.102564  0.647059   \n",
       "..    ...        ...       ...  ...       ...           ...       ...   \n",
       "979  0.00        0.4  0.000000  0.0  0.266667      0.170940  0.705882   \n",
       "980  0.15        0.0  0.666667  1.0  0.266667      0.000000  0.647059   \n",
       "981  0.00        0.0  0.000000  0.0  0.000000      0.102564  0.852941   \n",
       "982  0.10        0.4  0.000000  0.0  0.200000      0.170940  0.705882   \n",
       "983  0.00        0.8  0.666667  0.0  0.133333      0.102564  0.789672   \n",
       "\n",
       "     no_of_ratings  no_of_reviews  \n",
       "0         0.000839       0.000487  \n",
       "1         0.003357       0.001461  \n",
       "2         0.305468       0.225414  \n",
       "3         0.671680       0.506329  \n",
       "4         0.001097       0.001461  \n",
       "..             ...            ...  \n",
       "979       0.123039       0.110516  \n",
       "980       0.386676       0.334469  \n",
       "981       0.001356       0.002434  \n",
       "982       0.051643       0.050633  \n",
       "983       0.046291       0.040846  \n",
       "\n",
       "[984 rows x 9 columns]"
      ]
     },
     "execution_count": 77,
     "metadata": {},
     "output_type": "execute_result"
    }
   ],
   "source": [
    "norm_scaler = MinMaxScaler()\n",
    "x_norm = norm_scaler.fit_transform(x) # min , max and apply on all x \n",
    "x_norm_df = pd.DataFrame(x_norm, columns = x.columns)\n",
    "x_norm_df"
   ]
  },
  {
   "cell_type": "code",
   "execution_count": 78,
   "id": "db668baa",
   "metadata": {},
   "outputs": [
    {
     "data": {
      "text/html": [
       "<div>\n",
       "<style scoped>\n",
       "    .dataframe tbody tr th:only-of-type {\n",
       "        vertical-align: middle;\n",
       "    }\n",
       "\n",
       "    .dataframe tbody tr th {\n",
       "        vertical-align: top;\n",
       "    }\n",
       "\n",
       "    .dataframe thead th {\n",
       "        text-align: right;\n",
       "    }\n",
       "</style>\n",
       "<table border=\"1\" class=\"dataframe\">\n",
       "  <thead>\n",
       "    <tr style=\"text-align: right;\">\n",
       "      <th></th>\n",
       "      <th>name</th>\n",
       "      <th>processor</th>\n",
       "      <th>ram</th>\n",
       "      <th>os</th>\n",
       "      <th>storage</th>\n",
       "      <th>display_inch</th>\n",
       "      <th>rating</th>\n",
       "      <th>no_of_ratings</th>\n",
       "      <th>no_of_reviews</th>\n",
       "    </tr>\n",
       "  </thead>\n",
       "  <tbody>\n",
       "    <tr>\n",
       "      <th>0</th>\n",
       "      <td>-0.516610</td>\n",
       "      <td>-0.261726</td>\n",
       "      <td>0.511776</td>\n",
       "      <td>-0.243772</td>\n",
       "      <td>-0.575234</td>\n",
       "      <td>0.339211</td>\n",
       "      <td>7.795857e-01</td>\n",
       "      <td>-0.481291</td>\n",
       "      <td>-0.468873</td>\n",
       "    </tr>\n",
       "    <tr>\n",
       "      <th>1</th>\n",
       "      <td>-0.516610</td>\n",
       "      <td>0.507045</td>\n",
       "      <td>-0.799650</td>\n",
       "      <td>-0.243772</td>\n",
       "      <td>1.143482</td>\n",
       "      <td>0.339211</td>\n",
       "      <td>4.171837e-01</td>\n",
       "      <td>-0.454632</td>\n",
       "      <td>-0.457561</td>\n",
       "    </tr>\n",
       "    <tr>\n",
       "      <th>2</th>\n",
       "      <td>-0.895123</td>\n",
       "      <td>-0.261726</td>\n",
       "      <td>-0.799650</td>\n",
       "      <td>-0.243772</td>\n",
       "      <td>-0.575234</td>\n",
       "      <td>0.339211</td>\n",
       "      <td>4.171837e-01</td>\n",
       "      <td>2.744441</td>\n",
       "      <td>2.144204</td>\n",
       "    </tr>\n",
       "    <tr>\n",
       "      <th>3</th>\n",
       "      <td>-0.895123</td>\n",
       "      <td>0.507045</td>\n",
       "      <td>-0.799650</td>\n",
       "      <td>-0.243772</td>\n",
       "      <td>-0.575234</td>\n",
       "      <td>0.339211</td>\n",
       "      <td>5.478170e-02</td>\n",
       "      <td>6.622291</td>\n",
       "      <td>5.407722</td>\n",
       "    </tr>\n",
       "    <tr>\n",
       "      <th>4</th>\n",
       "      <td>-0.516610</td>\n",
       "      <td>-1.030497</td>\n",
       "      <td>1.823203</td>\n",
       "      <td>5.334635</td>\n",
       "      <td>0.570577</td>\n",
       "      <td>-0.862531</td>\n",
       "      <td>-1.757228e+00</td>\n",
       "      <td>-0.478556</td>\n",
       "      <td>-0.457561</td>\n",
       "    </tr>\n",
       "    <tr>\n",
       "      <th>...</th>\n",
       "      <td>...</td>\n",
       "      <td>...</td>\n",
       "      <td>...</td>\n",
       "      <td>...</td>\n",
       "      <td>...</td>\n",
       "      <td>...</td>\n",
       "      <td>...</td>\n",
       "      <td>...</td>\n",
       "      <td>...</td>\n",
       "    </tr>\n",
       "    <tr>\n",
       "      <th>979</th>\n",
       "      <td>-0.895123</td>\n",
       "      <td>0.507045</td>\n",
       "      <td>-0.799650</td>\n",
       "      <td>-0.243772</td>\n",
       "      <td>1.716387</td>\n",
       "      <td>0.339211</td>\n",
       "      <td>-1.032424e+00</td>\n",
       "      <td>0.812693</td>\n",
       "      <td>0.809385</td>\n",
       "    </tr>\n",
       "    <tr>\n",
       "      <th>980</th>\n",
       "      <td>0.240418</td>\n",
       "      <td>-1.030497</td>\n",
       "      <td>1.823203</td>\n",
       "      <td>5.334635</td>\n",
       "      <td>1.716387</td>\n",
       "      <td>-2.665144</td>\n",
       "      <td>-1.757228e+00</td>\n",
       "      <td>3.604362</td>\n",
       "      <td>3.411150</td>\n",
       "    </tr>\n",
       "    <tr>\n",
       "      <th>981</th>\n",
       "      <td>-0.895123</td>\n",
       "      <td>-1.030497</td>\n",
       "      <td>-0.799650</td>\n",
       "      <td>-0.243772</td>\n",
       "      <td>-0.575234</td>\n",
       "      <td>-0.862531</td>\n",
       "      <td>7.795857e-01</td>\n",
       "      <td>-0.475822</td>\n",
       "      <td>-0.446249</td>\n",
       "    </tr>\n",
       "    <tr>\n",
       "      <th>982</th>\n",
       "      <td>-0.138096</td>\n",
       "      <td>0.507045</td>\n",
       "      <td>-0.799650</td>\n",
       "      <td>-0.243772</td>\n",
       "      <td>1.143482</td>\n",
       "      <td>0.339211</td>\n",
       "      <td>-1.032424e+00</td>\n",
       "      <td>0.056673</td>\n",
       "      <td>0.113696</td>\n",
       "    </tr>\n",
       "    <tr>\n",
       "      <th>983</th>\n",
       "      <td>-0.895123</td>\n",
       "      <td>2.044587</td>\n",
       "      <td>1.823203</td>\n",
       "      <td>-0.243772</td>\n",
       "      <td>0.570577</td>\n",
       "      <td>-0.862531</td>\n",
       "      <td>1.931266e-14</td>\n",
       "      <td>0.000000</td>\n",
       "      <td>0.000000</td>\n",
       "    </tr>\n",
       "  </tbody>\n",
       "</table>\n",
       "<p>984 rows × 9 columns</p>\n",
       "</div>"
      ],
      "text/plain": [
       "         name  processor       ram        os   storage  display_inch  \\\n",
       "0   -0.516610  -0.261726  0.511776 -0.243772 -0.575234      0.339211   \n",
       "1   -0.516610   0.507045 -0.799650 -0.243772  1.143482      0.339211   \n",
       "2   -0.895123  -0.261726 -0.799650 -0.243772 -0.575234      0.339211   \n",
       "3   -0.895123   0.507045 -0.799650 -0.243772 -0.575234      0.339211   \n",
       "4   -0.516610  -1.030497  1.823203  5.334635  0.570577     -0.862531   \n",
       "..        ...        ...       ...       ...       ...           ...   \n",
       "979 -0.895123   0.507045 -0.799650 -0.243772  1.716387      0.339211   \n",
       "980  0.240418  -1.030497  1.823203  5.334635  1.716387     -2.665144   \n",
       "981 -0.895123  -1.030497 -0.799650 -0.243772 -0.575234     -0.862531   \n",
       "982 -0.138096   0.507045 -0.799650 -0.243772  1.143482      0.339211   \n",
       "983 -0.895123   2.044587  1.823203 -0.243772  0.570577     -0.862531   \n",
       "\n",
       "           rating  no_of_ratings  no_of_reviews  \n",
       "0    7.795857e-01      -0.481291      -0.468873  \n",
       "1    4.171837e-01      -0.454632      -0.457561  \n",
       "2    4.171837e-01       2.744441       2.144204  \n",
       "3    5.478170e-02       6.622291       5.407722  \n",
       "4   -1.757228e+00      -0.478556      -0.457561  \n",
       "..            ...            ...            ...  \n",
       "979 -1.032424e+00       0.812693       0.809385  \n",
       "980 -1.757228e+00       3.604362       3.411150  \n",
       "981  7.795857e-01      -0.475822      -0.446249  \n",
       "982 -1.032424e+00       0.056673       0.113696  \n",
       "983  1.931266e-14       0.000000       0.000000  \n",
       "\n",
       "[984 rows x 9 columns]"
      ]
     },
     "execution_count": 78,
     "metadata": {},
     "output_type": "execute_result"
    }
   ],
   "source": [
    "std_scaler = StandardScaler()\n",
    "x_std = std_scaler.fit_transform(x) ## x_mean, x_std and apply to all x values \n",
    "x_std_df = pd.DataFrame(x_std, columns = x.columns)\n",
    "x_std_df"
   ]
  },
  {
   "cell_type": "code",
   "execution_count": 79,
   "id": "6abbbbb3",
   "metadata": {},
   "outputs": [
    {
     "data": {
      "text/plain": [
       "((688, 9), (296, 9), (688,), (296,))"
      ]
     },
     "execution_count": 79,
     "metadata": {},
     "output_type": "execute_result"
    }
   ],
   "source": [
    "x_train,x_test, y_train,y_test = train_test_split(x_norm_df,y, test_size=0.3, random_state=5)\n",
    "x_train.shape,x_test.shape, y_train.shape,y_test.shape"
   ]
  },
  {
   "cell_type": "code",
   "execution_count": 80,
   "id": "23e59779",
   "metadata": {},
   "outputs": [
    {
     "data": {
      "text/html": [
       "<div>\n",
       "<style scoped>\n",
       "    .dataframe tbody tr th:only-of-type {\n",
       "        vertical-align: middle;\n",
       "    }\n",
       "\n",
       "    .dataframe tbody tr th {\n",
       "        vertical-align: top;\n",
       "    }\n",
       "\n",
       "    .dataframe thead th {\n",
       "        text-align: right;\n",
       "    }\n",
       "</style>\n",
       "<table border=\"1\" class=\"dataframe\">\n",
       "  <thead>\n",
       "    <tr style=\"text-align: right;\">\n",
       "      <th></th>\n",
       "      <th>name</th>\n",
       "      <th>processor</th>\n",
       "      <th>ram</th>\n",
       "      <th>os</th>\n",
       "      <th>storage</th>\n",
       "      <th>display_inch</th>\n",
       "      <th>rating</th>\n",
       "      <th>no_of_ratings</th>\n",
       "      <th>no_of_reviews</th>\n",
       "    </tr>\n",
       "  </thead>\n",
       "  <tbody>\n",
       "    <tr>\n",
       "      <th>count</th>\n",
       "      <td>984.000000</td>\n",
       "      <td>984.000000</td>\n",
       "      <td>984.000000</td>\n",
       "      <td>984.000000</td>\n",
       "      <td>984.000000</td>\n",
       "      <td>984.000000</td>\n",
       "      <td>984.000000</td>\n",
       "      <td>984.000000</td>\n",
       "      <td>984.000000</td>\n",
       "    </tr>\n",
       "    <tr>\n",
       "      <th>mean</th>\n",
       "      <td>0.118242</td>\n",
       "      <td>0.268089</td>\n",
       "      <td>0.203252</td>\n",
       "      <td>0.043699</td>\n",
       "      <td>0.066938</td>\n",
       "      <td>0.151640</td>\n",
       "      <td>0.789672</td>\n",
       "      <td>0.046291</td>\n",
       "      <td>0.040846</td>\n",
       "    </tr>\n",
       "    <tr>\n",
       "      <th>std</th>\n",
       "      <td>0.132163</td>\n",
       "      <td>0.260288</td>\n",
       "      <td>0.254305</td>\n",
       "      <td>0.179354</td>\n",
       "      <td>0.116425</td>\n",
       "      <td>0.056926</td>\n",
       "      <td>0.081199</td>\n",
       "      <td>0.094485</td>\n",
       "      <td>0.086121</td>\n",
       "    </tr>\n",
       "    <tr>\n",
       "      <th>min</th>\n",
       "      <td>0.000000</td>\n",
       "      <td>0.000000</td>\n",
       "      <td>0.000000</td>\n",
       "      <td>0.000000</td>\n",
       "      <td>0.000000</td>\n",
       "      <td>0.000000</td>\n",
       "      <td>0.000000</td>\n",
       "      <td>0.000000</td>\n",
       "      <td>0.000000</td>\n",
       "    </tr>\n",
       "    <tr>\n",
       "      <th>25%</th>\n",
       "      <td>0.050000</td>\n",
       "      <td>0.000000</td>\n",
       "      <td>0.000000</td>\n",
       "      <td>0.000000</td>\n",
       "      <td>0.000000</td>\n",
       "      <td>0.102564</td>\n",
       "      <td>0.764706</td>\n",
       "      <td>0.002324</td>\n",
       "      <td>0.001461</td>\n",
       "    </tr>\n",
       "    <tr>\n",
       "      <th>50%</th>\n",
       "      <td>0.100000</td>\n",
       "      <td>0.200000</td>\n",
       "      <td>0.000000</td>\n",
       "      <td>0.000000</td>\n",
       "      <td>0.000000</td>\n",
       "      <td>0.170940</td>\n",
       "      <td>0.789672</td>\n",
       "      <td>0.024789</td>\n",
       "      <td>0.019231</td>\n",
       "    </tr>\n",
       "    <tr>\n",
       "      <th>75%</th>\n",
       "      <td>0.150000</td>\n",
       "      <td>0.400000</td>\n",
       "      <td>0.333333</td>\n",
       "      <td>0.000000</td>\n",
       "      <td>0.133333</td>\n",
       "      <td>0.170940</td>\n",
       "      <td>0.823529</td>\n",
       "      <td>0.046291</td>\n",
       "      <td>0.040846</td>\n",
       "    </tr>\n",
       "    <tr>\n",
       "      <th>max</th>\n",
       "      <td>1.000000</td>\n",
       "      <td>1.000000</td>\n",
       "      <td>1.000000</td>\n",
       "      <td>1.000000</td>\n",
       "      <td>1.000000</td>\n",
       "      <td>1.000000</td>\n",
       "      <td>1.000000</td>\n",
       "      <td>1.000000</td>\n",
       "      <td>1.000000</td>\n",
       "    </tr>\n",
       "  </tbody>\n",
       "</table>\n",
       "</div>"
      ],
      "text/plain": [
       "             name   processor         ram          os     storage  \\\n",
       "count  984.000000  984.000000  984.000000  984.000000  984.000000   \n",
       "mean     0.118242    0.268089    0.203252    0.043699    0.066938   \n",
       "std      0.132163    0.260288    0.254305    0.179354    0.116425   \n",
       "min      0.000000    0.000000    0.000000    0.000000    0.000000   \n",
       "25%      0.050000    0.000000    0.000000    0.000000    0.000000   \n",
       "50%      0.100000    0.200000    0.000000    0.000000    0.000000   \n",
       "75%      0.150000    0.400000    0.333333    0.000000    0.133333   \n",
       "max      1.000000    1.000000    1.000000    1.000000    1.000000   \n",
       "\n",
       "       display_inch      rating  no_of_ratings  no_of_reviews  \n",
       "count    984.000000  984.000000     984.000000     984.000000  \n",
       "mean       0.151640    0.789672       0.046291       0.040846  \n",
       "std        0.056926    0.081199       0.094485       0.086121  \n",
       "min        0.000000    0.000000       0.000000       0.000000  \n",
       "25%        0.102564    0.764706       0.002324       0.001461  \n",
       "50%        0.170940    0.789672       0.024789       0.019231  \n",
       "75%        0.170940    0.823529       0.046291       0.040846  \n",
       "max        1.000000    1.000000       1.000000       1.000000  "
      ]
     },
     "execution_count": 80,
     "metadata": {},
     "output_type": "execute_result"
    }
   ],
   "source": [
    "x_norm_df.describe()"
   ]
  },
  {
   "cell_type": "code",
   "execution_count": 84,
   "id": "d397bdb3",
   "metadata": {},
   "outputs": [
    {
     "data": {
      "text/plain": [
       "KNeighborsRegressor()"
      ]
     },
     "execution_count": 84,
     "metadata": {},
     "output_type": "execute_result"
    }
   ],
   "source": [
    "model=KNeighborsRegressor()\n",
    "model.fit(x_train,y_train)"
   ]
  },
  {
   "cell_type": "code",
   "execution_count": 85,
   "id": "1cc8ad33",
   "metadata": {},
   "outputs": [],
   "source": [
    "def model_eval(model,input_data, output):\n",
    "    y_pred = model.predict(input_data)\n",
    "\n",
    "\n",
    "    mse = mean_squared_error(output,y_pred)\n",
    "    print(f\"MSE = {mse}\")\n",
    "    print(f\"RMSE = {np.sqrt(mse)}\")\n",
    "    \n",
    "    mae = mean_absolute_error(output,y_pred)\n",
    "    print(f\"MAE = {mae}\")\n",
    "    \n",
    "    r2 = r2_score(output,y_pred)\n",
    "    print(f\"R-Squared = {r2}\")\n",
    "    \n",
    "    return \"Success\""
   ]
  },
  {
   "cell_type": "code",
   "execution_count": 86,
   "id": "cb7000ee",
   "metadata": {},
   "outputs": [
    {
     "name": "stdout",
     "output_type": "stream",
     "text": [
      "MSE = 1267778688.2055407\n",
      "RMSE = 35605.879966734996\n",
      "MAE = 20446.457432432435\n",
      "R-Squared = 0.7052988053425373\n"
     ]
    },
    {
     "data": {
      "text/plain": [
       "'Success'"
      ]
     },
     "execution_count": 86,
     "metadata": {},
     "output_type": "execute_result"
    }
   ],
   "source": [
    "model_eval(model,x_test,y_test)"
   ]
  },
  {
   "cell_type": "code",
   "execution_count": 87,
   "id": "3043d194",
   "metadata": {},
   "outputs": [
    {
     "name": "stdout",
     "output_type": "stream",
     "text": [
      "MSE = 463384682.21424425\n",
      "RMSE = 21526.37178472592\n",
      "MAE = 12423.593895348837\n",
      "R-Squared = 0.8364929471109002\n"
     ]
    },
    {
     "data": {
      "text/plain": [
       "'Success'"
      ]
     },
     "execution_count": 87,
     "metadata": {},
     "output_type": "execute_result"
    }
   ],
   "source": [
    "model_eval(model,x_train,y_train)"
   ]
  },
  {
   "cell_type": "code",
   "execution_count": null,
   "id": "c6d0033d",
   "metadata": {},
   "outputs": [],
   "source": [
    "## Bias - Variance Tradeoff\n",
    "# Bias >> high Bias \n",
    "# Variance >> high Varaiance \n",
    "\n",
    "# Underfit model "
   ]
  },
  {
   "cell_type": "markdown",
   "id": "ede54828",
   "metadata": {},
   "source": [
    "# hyperparameter tuning"
   ]
  },
  {
   "cell_type": "code",
   "execution_count": 88,
   "id": "cd6def17",
   "metadata": {},
   "outputs": [
    {
     "data": {
      "text/plain": [
       "GridSearchCV(estimator=KNeighborsRegressor(),\n",
       "             param_grid={'n_neighbors': array([3, 4, 5, 6, 7, 8, 9]),\n",
       "                         'p': [1, 2]})"
      ]
     },
     "execution_count": 88,
     "metadata": {},
     "output_type": "execute_result"
    }
   ],
   "source": [
    "hyp_model = KNeighborsRegressor(n_neighbors=5)\n",
    "\n",
    "hyp = {\n",
    "    \"n_neighbors\":np.arange(3,10),\n",
    "    \"p\":[1,2]\n",
    "}\n",
    "\n",
    "gscv = GridSearchCV(hyp_model,hyp)\n",
    "gscv.fit(x_train,y_train)"
   ]
  },
  {
   "cell_type": "code",
   "execution_count": 89,
   "id": "d482a243",
   "metadata": {},
   "outputs": [
    {
     "data": {
      "text/plain": [
       "{'n_neighbors': 5, 'p': 1}"
      ]
     },
     "execution_count": 89,
     "metadata": {},
     "output_type": "execute_result"
    }
   ],
   "source": [
    "gscv.best_params_"
   ]
  },
  {
   "cell_type": "code",
   "execution_count": 90,
   "id": "c1f913a5",
   "metadata": {},
   "outputs": [
    {
     "name": "stdout",
     "output_type": "stream",
     "text": [
      "######## TESTING DATA EVALUATION ########\n",
      "MSE = 1114662140.5033784\n",
      "RMSE = 33386.55628398021\n",
      "MAE = 19557.538513513515\n",
      "R-Squared = 0.7408914761686444\n",
      "\n",
      "######## TRAINING DATA EVALUATION ########\n",
      "MSE = 405325083.9097675\n",
      "RMSE = 20132.686952062995\n",
      "MAE = 11478.342441860465\n",
      "R-Squared = 0.8569794978646449\n"
     ]
    },
    {
     "data": {
      "text/plain": [
       "'Success'"
      ]
     },
     "execution_count": 90,
     "metadata": {},
     "output_type": "execute_result"
    }
   ],
   "source": [
    "hyp_model = gscv.best_estimator_\n",
    "hyp_model.fit(x_train,y_train)\n",
    "# Testing data eval \n",
    "print(f\"######## TESTING DATA EVALUATION ########\")\n",
    "model_eval(hyp_model,x_test,y_test)\n",
    "print()\n",
    "print(f\"######## TRAINING DATA EVALUATION ########\")\n",
    "# Training Data eval \n",
    "model_eval(hyp_model,x_train, y_train)"
   ]
  },
  {
   "cell_type": "code",
   "execution_count": 91,
   "id": "80288c4f",
   "metadata": {},
   "outputs": [
    {
     "name": "stdout",
     "output_type": "stream",
     "text": [
      "######## TESTING DATA EVALUATION ########\n",
      "MSE = 725983760.1983757\n",
      "RMSE = 26944.085811145564\n",
      "MAE = 16637.90152284264\n",
      "R-Squared = 0.8238040229188759\n",
      "\n",
      "######## TRAINING DATA EVALUATION ########\n",
      "MSE = 585940205.1642693\n",
      "RMSE = 24206.201791364736\n",
      "MAE = 13454.277255400253\n",
      "R-Squared = 0.8089697541811812\n"
     ]
    },
    {
     "data": {
      "text/plain": [
       "'Success'"
      ]
     },
     "execution_count": 91,
     "metadata": {},
     "output_type": "execute_result"
    }
   ],
   "source": [
    "x_train,x_test, y_train,y_test = train_test_split(x_norm_df,y, test_size=0.2, random_state=42)\n",
    "test_model = KNeighborsRegressor()\n",
    "test_model.fit(x_train,y_train)\n",
    "# Testing data eval \n",
    "print(f\"######## TESTING DATA EVALUATION ########\")\n",
    "model_eval(test_model,x_test,y_test)\n",
    "print()\n",
    "print(f\"######## TRAINING DATA EVALUATION ########\")\n",
    "# Training Data eval \n",
    "model_eval(test_model,x_train, y_train)"
   ]
  },
  {
   "cell_type": "code",
   "execution_count": 92,
   "id": "ee2c8986",
   "metadata": {},
   "outputs": [],
   "source": [
    "with open('new_model.pkl','wb') as file: \n",
    "    pickle.dump(hyp_model,file)"
   ]
  },
  {
   "cell_type": "code",
   "execution_count": 95,
   "id": "feb2766b",
   "metadata": {},
   "outputs": [],
   "source": [
    "project_data = {\"column_names\":x.columns.tolist(),\n",
    "                 \"NAME\":  {'ASUS': 1,'Lenovo': 2,'DELL': 3,'HP': 4,'acer': 5,'MSI': 6,'APPLE': 7,\n",
    "                         'Infinix': 8,'GIGABYTE': 9,'Avita': 10,'realme': 11,'ALIENWARE': 12,\n",
    "                         'SAMSUNG': 13,'RedmiBook': 14,'LG': 15,'Vaio': 16,'Ultimus': 17,'Mi': 18,\n",
    "                         'MICROSOFT': 19,'lenovo': 20,'Nokia': 21,},\n",
    "                 \"PROCESSOR\"  :{'AMD processor': 1,'Intel Core i5': 2,'Intel Core i3': 3,\n",
    "                              'Intel Core i7': 4,'other Intel processor': 5,'Intel Core i9': 6},\n",
    "                 \"RAM\"        :{'8': 8, '16': 16, '4': 4, '32': 32},\n",
    "                 \"OS\"       :{'Windows': 1, 'Mac': 2, 'DOS Operating/Chrome Operating/others': 3},\n",
    "                 \"storage\"  :{'512 GB SSD': 1,'1 TB SSD': 2,'256 GB SSD': 3,\n",
    "                              '1 TB HDD|256 GB SSD': 4,'1 TB HDD': 5,'2 TB SSD': 6,'128 GB SSD': 7,\n",
    "                              '1 TB HDD|512 GB SSD': 8,'512 GB HDD|512 GB SSD': 9,'1 TB HDD|128 GB SSD': 10,\n",
    "                              '256 GB HDD|256 GB SSD': 11,'4 TB SSD': 12,\n",
    "'PCI-e SSD (NVMe) ready,Silver-Lining Print Keyboard,Matrix Display (Extend),Cooler Boost 5,Hi-Res Audio,Nahimic 3,144Hz Panel,Thin Bezel,RGB Gaming Keyboard,Speaker Tuning Engine,MSI Center': 13,\n",
    "'PCI-e Gen4 SSD?SHIFT?Matrix Display (Extend)?Cooler Boost 3?Thunderbolt 4?Finger Print Security?True Color 2.0?Hi-Res Audio?Nahimic 3? 4-Sided Thin bezel?MSI Center?Silky Smooth Touchpad?Military-Grade Durability': 14,\n",
    "'2 TB HDD': 15,\n",
    "'256 GB HDD': 16},\n",
    "                }\n",
    "\n",
    "with open('new_project_data.json','w') as file:\n",
    "    json.dump(project_data,file)"
   ]
  },
  {
   "cell_type": "code",
   "execution_count": 98,
   "id": "eeeee4b4",
   "metadata": {},
   "outputs": [
    {
     "data": {
      "text/html": [
       "<div>\n",
       "<style scoped>\n",
       "    .dataframe tbody tr th:only-of-type {\n",
       "        vertical-align: middle;\n",
       "    }\n",
       "\n",
       "    .dataframe tbody tr th {\n",
       "        vertical-align: top;\n",
       "    }\n",
       "\n",
       "    .dataframe thead th {\n",
       "        text-align: right;\n",
       "    }\n",
       "</style>\n",
       "<table border=\"1\" class=\"dataframe\">\n",
       "  <thead>\n",
       "    <tr style=\"text-align: right;\">\n",
       "      <th></th>\n",
       "      <th>name</th>\n",
       "      <th>processor</th>\n",
       "      <th>ram</th>\n",
       "      <th>os</th>\n",
       "      <th>storage</th>\n",
       "      <th>display_inch</th>\n",
       "      <th>rating</th>\n",
       "      <th>no_of_ratings</th>\n",
       "      <th>no_of_reviews</th>\n",
       "    </tr>\n",
       "  </thead>\n",
       "  <tbody>\n",
       "    <tr>\n",
       "      <th>0</th>\n",
       "      <td>0.05</td>\n",
       "      <td>0.2</td>\n",
       "      <td>0.333333</td>\n",
       "      <td>0.0</td>\n",
       "      <td>0.000000</td>\n",
       "      <td>0.170940</td>\n",
       "      <td>0.852941</td>\n",
       "      <td>0.000839</td>\n",
       "      <td>0.000487</td>\n",
       "    </tr>\n",
       "    <tr>\n",
       "      <th>1</th>\n",
       "      <td>0.05</td>\n",
       "      <td>0.4</td>\n",
       "      <td>0.000000</td>\n",
       "      <td>0.0</td>\n",
       "      <td>0.200000</td>\n",
       "      <td>0.170940</td>\n",
       "      <td>0.823529</td>\n",
       "      <td>0.003357</td>\n",
       "      <td>0.001461</td>\n",
       "    </tr>\n",
       "    <tr>\n",
       "      <th>2</th>\n",
       "      <td>0.00</td>\n",
       "      <td>0.2</td>\n",
       "      <td>0.000000</td>\n",
       "      <td>0.0</td>\n",
       "      <td>0.000000</td>\n",
       "      <td>0.170940</td>\n",
       "      <td>0.823529</td>\n",
       "      <td>0.305468</td>\n",
       "      <td>0.225414</td>\n",
       "    </tr>\n",
       "    <tr>\n",
       "      <th>3</th>\n",
       "      <td>0.00</td>\n",
       "      <td>0.4</td>\n",
       "      <td>0.000000</td>\n",
       "      <td>0.0</td>\n",
       "      <td>0.000000</td>\n",
       "      <td>0.170940</td>\n",
       "      <td>0.794118</td>\n",
       "      <td>0.671680</td>\n",
       "      <td>0.506329</td>\n",
       "    </tr>\n",
       "    <tr>\n",
       "      <th>4</th>\n",
       "      <td>0.05</td>\n",
       "      <td>0.0</td>\n",
       "      <td>0.666667</td>\n",
       "      <td>1.0</td>\n",
       "      <td>0.133333</td>\n",
       "      <td>0.102564</td>\n",
       "      <td>0.647059</td>\n",
       "      <td>0.001097</td>\n",
       "      <td>0.001461</td>\n",
       "    </tr>\n",
       "    <tr>\n",
       "      <th>...</th>\n",
       "      <td>...</td>\n",
       "      <td>...</td>\n",
       "      <td>...</td>\n",
       "      <td>...</td>\n",
       "      <td>...</td>\n",
       "      <td>...</td>\n",
       "      <td>...</td>\n",
       "      <td>...</td>\n",
       "      <td>...</td>\n",
       "    </tr>\n",
       "    <tr>\n",
       "      <th>979</th>\n",
       "      <td>0.00</td>\n",
       "      <td>0.4</td>\n",
       "      <td>0.000000</td>\n",
       "      <td>0.0</td>\n",
       "      <td>0.266667</td>\n",
       "      <td>0.170940</td>\n",
       "      <td>0.705882</td>\n",
       "      <td>0.123039</td>\n",
       "      <td>0.110516</td>\n",
       "    </tr>\n",
       "    <tr>\n",
       "      <th>980</th>\n",
       "      <td>0.15</td>\n",
       "      <td>0.0</td>\n",
       "      <td>0.666667</td>\n",
       "      <td>1.0</td>\n",
       "      <td>0.266667</td>\n",
       "      <td>0.000000</td>\n",
       "      <td>0.647059</td>\n",
       "      <td>0.386676</td>\n",
       "      <td>0.334469</td>\n",
       "    </tr>\n",
       "    <tr>\n",
       "      <th>981</th>\n",
       "      <td>0.00</td>\n",
       "      <td>0.0</td>\n",
       "      <td>0.000000</td>\n",
       "      <td>0.0</td>\n",
       "      <td>0.000000</td>\n",
       "      <td>0.102564</td>\n",
       "      <td>0.852941</td>\n",
       "      <td>0.001356</td>\n",
       "      <td>0.002434</td>\n",
       "    </tr>\n",
       "    <tr>\n",
       "      <th>982</th>\n",
       "      <td>0.10</td>\n",
       "      <td>0.4</td>\n",
       "      <td>0.000000</td>\n",
       "      <td>0.0</td>\n",
       "      <td>0.200000</td>\n",
       "      <td>0.170940</td>\n",
       "      <td>0.705882</td>\n",
       "      <td>0.051643</td>\n",
       "      <td>0.050633</td>\n",
       "    </tr>\n",
       "    <tr>\n",
       "      <th>983</th>\n",
       "      <td>0.00</td>\n",
       "      <td>0.8</td>\n",
       "      <td>0.666667</td>\n",
       "      <td>0.0</td>\n",
       "      <td>0.133333</td>\n",
       "      <td>0.102564</td>\n",
       "      <td>0.789672</td>\n",
       "      <td>0.046291</td>\n",
       "      <td>0.040846</td>\n",
       "    </tr>\n",
       "  </tbody>\n",
       "</table>\n",
       "<p>984 rows × 9 columns</p>\n",
       "</div>"
      ],
      "text/plain": [
       "     name  processor       ram   os   storage  display_inch    rating  \\\n",
       "0    0.05        0.2  0.333333  0.0  0.000000      0.170940  0.852941   \n",
       "1    0.05        0.4  0.000000  0.0  0.200000      0.170940  0.823529   \n",
       "2    0.00        0.2  0.000000  0.0  0.000000      0.170940  0.823529   \n",
       "3    0.00        0.4  0.000000  0.0  0.000000      0.170940  0.794118   \n",
       "4    0.05        0.0  0.666667  1.0  0.133333      0.102564  0.647059   \n",
       "..    ...        ...       ...  ...       ...           ...       ...   \n",
       "979  0.00        0.4  0.000000  0.0  0.266667      0.170940  0.705882   \n",
       "980  0.15        0.0  0.666667  1.0  0.266667      0.000000  0.647059   \n",
       "981  0.00        0.0  0.000000  0.0  0.000000      0.102564  0.852941   \n",
       "982  0.10        0.4  0.000000  0.0  0.200000      0.170940  0.705882   \n",
       "983  0.00        0.8  0.666667  0.0  0.133333      0.102564  0.789672   \n",
       "\n",
       "     no_of_ratings  no_of_reviews  \n",
       "0         0.000839       0.000487  \n",
       "1         0.003357       0.001461  \n",
       "2         0.305468       0.225414  \n",
       "3         0.671680       0.506329  \n",
       "4         0.001097       0.001461  \n",
       "..             ...            ...  \n",
       "979       0.123039       0.110516  \n",
       "980       0.386676       0.334469  \n",
       "981       0.001356       0.002434  \n",
       "982       0.051643       0.050633  \n",
       "983       0.046291       0.040846  \n",
       "\n",
       "[984 rows x 9 columns]"
      ]
     },
     "execution_count": 98,
     "metadata": {},
     "output_type": "execute_result"
    }
   ],
   "source": [
    "scaler = MinMaxScaler()\n",
    "arr = scaler.fit_transform(x)\n",
    "x_scale = pd.DataFrame(arr, columns = x.columns)\n",
    "x_scale"
   ]
  },
  {
   "cell_type": "code",
   "execution_count": 99,
   "id": "725900ab",
   "metadata": {},
   "outputs": [],
   "source": [
    "with open('new_scale.pkl','wb') as file: \n",
    "    pickle.dump(scaler,file)"
   ]
  },
  {
   "cell_type": "code",
   "execution_count": null,
   "id": "2ba723b4",
   "metadata": {},
   "outputs": [],
   "source": []
  },
  {
   "cell_type": "code",
   "execution_count": null,
   "id": "1f41851d",
   "metadata": {},
   "outputs": [],
   "source": []
  }
 ],
 "metadata": {
  "kernelspec": {
   "display_name": "Python 3 (ipykernel)",
   "language": "python",
   "name": "python3"
  },
  "language_info": {
   "codemirror_mode": {
    "name": "ipython",
    "version": 3
   },
   "file_extension": ".py",
   "mimetype": "text/x-python",
   "name": "python",
   "nbconvert_exporter": "python",
   "pygments_lexer": "ipython3",
   "version": "3.9.13"
  }
 },
 "nbformat": 4,
 "nbformat_minor": 5
}
